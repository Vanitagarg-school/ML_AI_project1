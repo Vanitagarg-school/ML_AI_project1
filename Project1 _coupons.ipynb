{
 "cells": [
  {
   "cell_type": "code",
   "execution_count": 85,
   "id": "84402073-e2d1-4cf2-a17c-32fb30a98b79",
   "metadata": {},
   "outputs": [],
   "source": [
    "import matplotlib.pyplot as plt\n",
    "import seaborn as sns\n",
    "import pandas as pd\n",
    "import numpy as np\n",
    "import plotly as px"
   ]
  },
  {
   "cell_type": "code",
   "execution_count": 61,
   "id": "f7f717e8-f707-4bfc-a3e7-b41827b7b242",
   "metadata": {},
   "outputs": [],
   "source": [
    "np.set_printoptions(legacy='1.25')"
   ]
  },
  {
   "cell_type": "code",
   "execution_count": 3,
   "id": "b5da3f84-7c74-43db-9b01-4a0aa68e62a0",
   "metadata": {},
   "outputs": [],
   "source": [
    "Coupons = pd.read_csv(\"/Users/vgarg2/Downloads/assignment5_1_starter 2/data/coupons.csv\")"
   ]
  },
  {
   "cell_type": "code",
   "execution_count": 4,
   "id": "ec92ce7a-aae8-4f81-b026-821bd92b053a",
   "metadata": {},
   "outputs": [
    {
     "data": {
      "text/html": [
       "<div>\n",
       "<style scoped>\n",
       "    .dataframe tbody tr th:only-of-type {\n",
       "        vertical-align: middle;\n",
       "    }\n",
       "\n",
       "    .dataframe tbody tr th {\n",
       "        vertical-align: top;\n",
       "    }\n",
       "\n",
       "    .dataframe thead th {\n",
       "        text-align: right;\n",
       "    }\n",
       "</style>\n",
       "<table border=\"1\" class=\"dataframe\">\n",
       "  <thead>\n",
       "    <tr style=\"text-align: right;\">\n",
       "      <th></th>\n",
       "      <th>destination</th>\n",
       "      <th>passanger</th>\n",
       "      <th>weather</th>\n",
       "      <th>temperature</th>\n",
       "      <th>time</th>\n",
       "      <th>coupon</th>\n",
       "      <th>expiration</th>\n",
       "      <th>gender</th>\n",
       "      <th>age</th>\n",
       "      <th>maritalStatus</th>\n",
       "      <th>...</th>\n",
       "      <th>CoffeeHouse</th>\n",
       "      <th>CarryAway</th>\n",
       "      <th>RestaurantLessThan20</th>\n",
       "      <th>Restaurant20To50</th>\n",
       "      <th>toCoupon_GEQ5min</th>\n",
       "      <th>toCoupon_GEQ15min</th>\n",
       "      <th>toCoupon_GEQ25min</th>\n",
       "      <th>direction_same</th>\n",
       "      <th>direction_opp</th>\n",
       "      <th>Y</th>\n",
       "    </tr>\n",
       "  </thead>\n",
       "  <tbody>\n",
       "    <tr>\n",
       "      <th>0</th>\n",
       "      <td>No Urgent Place</td>\n",
       "      <td>Alone</td>\n",
       "      <td>Sunny</td>\n",
       "      <td>55</td>\n",
       "      <td>2PM</td>\n",
       "      <td>Restaurant(&lt;20)</td>\n",
       "      <td>1d</td>\n",
       "      <td>Female</td>\n",
       "      <td>21</td>\n",
       "      <td>Unmarried partner</td>\n",
       "      <td>...</td>\n",
       "      <td>never</td>\n",
       "      <td>NaN</td>\n",
       "      <td>4~8</td>\n",
       "      <td>1~3</td>\n",
       "      <td>1</td>\n",
       "      <td>0</td>\n",
       "      <td>0</td>\n",
       "      <td>0</td>\n",
       "      <td>1</td>\n",
       "      <td>1</td>\n",
       "    </tr>\n",
       "    <tr>\n",
       "      <th>1</th>\n",
       "      <td>No Urgent Place</td>\n",
       "      <td>Friend(s)</td>\n",
       "      <td>Sunny</td>\n",
       "      <td>80</td>\n",
       "      <td>10AM</td>\n",
       "      <td>Coffee House</td>\n",
       "      <td>2h</td>\n",
       "      <td>Female</td>\n",
       "      <td>21</td>\n",
       "      <td>Unmarried partner</td>\n",
       "      <td>...</td>\n",
       "      <td>never</td>\n",
       "      <td>NaN</td>\n",
       "      <td>4~8</td>\n",
       "      <td>1~3</td>\n",
       "      <td>1</td>\n",
       "      <td>0</td>\n",
       "      <td>0</td>\n",
       "      <td>0</td>\n",
       "      <td>1</td>\n",
       "      <td>0</td>\n",
       "    </tr>\n",
       "    <tr>\n",
       "      <th>2</th>\n",
       "      <td>No Urgent Place</td>\n",
       "      <td>Friend(s)</td>\n",
       "      <td>Sunny</td>\n",
       "      <td>80</td>\n",
       "      <td>10AM</td>\n",
       "      <td>Carry out &amp; Take away</td>\n",
       "      <td>2h</td>\n",
       "      <td>Female</td>\n",
       "      <td>21</td>\n",
       "      <td>Unmarried partner</td>\n",
       "      <td>...</td>\n",
       "      <td>never</td>\n",
       "      <td>NaN</td>\n",
       "      <td>4~8</td>\n",
       "      <td>1~3</td>\n",
       "      <td>1</td>\n",
       "      <td>1</td>\n",
       "      <td>0</td>\n",
       "      <td>0</td>\n",
       "      <td>1</td>\n",
       "      <td>1</td>\n",
       "    </tr>\n",
       "    <tr>\n",
       "      <th>3</th>\n",
       "      <td>No Urgent Place</td>\n",
       "      <td>Friend(s)</td>\n",
       "      <td>Sunny</td>\n",
       "      <td>80</td>\n",
       "      <td>2PM</td>\n",
       "      <td>Coffee House</td>\n",
       "      <td>2h</td>\n",
       "      <td>Female</td>\n",
       "      <td>21</td>\n",
       "      <td>Unmarried partner</td>\n",
       "      <td>...</td>\n",
       "      <td>never</td>\n",
       "      <td>NaN</td>\n",
       "      <td>4~8</td>\n",
       "      <td>1~3</td>\n",
       "      <td>1</td>\n",
       "      <td>1</td>\n",
       "      <td>0</td>\n",
       "      <td>0</td>\n",
       "      <td>1</td>\n",
       "      <td>0</td>\n",
       "    </tr>\n",
       "    <tr>\n",
       "      <th>4</th>\n",
       "      <td>No Urgent Place</td>\n",
       "      <td>Friend(s)</td>\n",
       "      <td>Sunny</td>\n",
       "      <td>80</td>\n",
       "      <td>2PM</td>\n",
       "      <td>Coffee House</td>\n",
       "      <td>1d</td>\n",
       "      <td>Female</td>\n",
       "      <td>21</td>\n",
       "      <td>Unmarried partner</td>\n",
       "      <td>...</td>\n",
       "      <td>never</td>\n",
       "      <td>NaN</td>\n",
       "      <td>4~8</td>\n",
       "      <td>1~3</td>\n",
       "      <td>1</td>\n",
       "      <td>1</td>\n",
       "      <td>0</td>\n",
       "      <td>0</td>\n",
       "      <td>1</td>\n",
       "      <td>0</td>\n",
       "    </tr>\n",
       "  </tbody>\n",
       "</table>\n",
       "<p>5 rows × 26 columns</p>\n",
       "</div>"
      ],
      "text/plain": [
       "       destination  passanger weather  temperature  time  \\\n",
       "0  No Urgent Place      Alone   Sunny           55   2PM   \n",
       "1  No Urgent Place  Friend(s)   Sunny           80  10AM   \n",
       "2  No Urgent Place  Friend(s)   Sunny           80  10AM   \n",
       "3  No Urgent Place  Friend(s)   Sunny           80   2PM   \n",
       "4  No Urgent Place  Friend(s)   Sunny           80   2PM   \n",
       "\n",
       "                  coupon expiration  gender age      maritalStatus  ...  \\\n",
       "0        Restaurant(<20)         1d  Female  21  Unmarried partner  ...   \n",
       "1           Coffee House         2h  Female  21  Unmarried partner  ...   \n",
       "2  Carry out & Take away         2h  Female  21  Unmarried partner  ...   \n",
       "3           Coffee House         2h  Female  21  Unmarried partner  ...   \n",
       "4           Coffee House         1d  Female  21  Unmarried partner  ...   \n",
       "\n",
       "   CoffeeHouse CarryAway RestaurantLessThan20 Restaurant20To50  \\\n",
       "0        never       NaN                  4~8              1~3   \n",
       "1        never       NaN                  4~8              1~3   \n",
       "2        never       NaN                  4~8              1~3   \n",
       "3        never       NaN                  4~8              1~3   \n",
       "4        never       NaN                  4~8              1~3   \n",
       "\n",
       "  toCoupon_GEQ5min toCoupon_GEQ15min toCoupon_GEQ25min direction_same  \\\n",
       "0                1                 0                 0              0   \n",
       "1                1                 0                 0              0   \n",
       "2                1                 1                 0              0   \n",
       "3                1                 1                 0              0   \n",
       "4                1                 1                 0              0   \n",
       "\n",
       "  direction_opp  Y  \n",
       "0             1  1  \n",
       "1             1  0  \n",
       "2             1  1  \n",
       "3             1  0  \n",
       "4             1  0  \n",
       "\n",
       "[5 rows x 26 columns]"
      ]
     },
     "execution_count": 4,
     "metadata": {},
     "output_type": "execute_result"
    }
   ],
   "source": [
    "Coupons.head()"
   ]
  },
  {
   "cell_type": "code",
   "execution_count": 5,
   "id": "19c692f2-cab0-4065-9da0-a32b469ce3eb",
   "metadata": {},
   "outputs": [
    {
     "data": {
      "text/plain": [
       "(12684, 26)"
      ]
     },
     "execution_count": 5,
     "metadata": {},
     "output_type": "execute_result"
    }
   ],
   "source": [
    "Coupons.shape"
   ]
  },
  {
   "cell_type": "code",
   "execution_count": 20,
   "id": "8a9e4dd7-bd10-43cb-92d1-04494d93c233",
   "metadata": {},
   "outputs": [],
   "source": [
    "# 2. Investigate the dataset for missing or problematic data."
   ]
  },
  {
   "cell_type": "code",
   "execution_count": 6,
   "id": "15bfa5cf-96a5-48d6-a7b4-b38be4ce5d5d",
   "metadata": {},
   "outputs": [
    {
     "name": "stdout",
     "output_type": "stream",
     "text": [
      "<class 'pandas.core.frame.DataFrame'>\n",
      "RangeIndex: 12684 entries, 0 to 12683\n",
      "Data columns (total 26 columns):\n",
      " #   Column                Non-Null Count  Dtype \n",
      "---  ------                --------------  ----- \n",
      " 0   destination           12684 non-null  object\n",
      " 1   passanger             12684 non-null  object\n",
      " 2   weather               12684 non-null  object\n",
      " 3   temperature           12684 non-null  int64 \n",
      " 4   time                  12684 non-null  object\n",
      " 5   coupon                12684 non-null  object\n",
      " 6   expiration            12684 non-null  object\n",
      " 7   gender                12684 non-null  object\n",
      " 8   age                   12684 non-null  object\n",
      " 9   maritalStatus         12684 non-null  object\n",
      " 10  has_children          12684 non-null  int64 \n",
      " 11  education             12684 non-null  object\n",
      " 12  occupation            12684 non-null  object\n",
      " 13  income                12684 non-null  object\n",
      " 14  car                   108 non-null    object\n",
      " 15  Bar                   12577 non-null  object\n",
      " 16  CoffeeHouse           12467 non-null  object\n",
      " 17  CarryAway             12533 non-null  object\n",
      " 18  RestaurantLessThan20  12554 non-null  object\n",
      " 19  Restaurant20To50      12495 non-null  object\n",
      " 20  toCoupon_GEQ5min      12684 non-null  int64 \n",
      " 21  toCoupon_GEQ15min     12684 non-null  int64 \n",
      " 22  toCoupon_GEQ25min     12684 non-null  int64 \n",
      " 23  direction_same        12684 non-null  int64 \n",
      " 24  direction_opp         12684 non-null  int64 \n",
      " 25  Y                     12684 non-null  int64 \n",
      "dtypes: int64(8), object(18)\n",
      "memory usage: 2.5+ MB\n"
     ]
    }
   ],
   "source": [
    "Coupons.info()"
   ]
  },
  {
   "cell_type": "code",
   "execution_count": 11,
   "id": "622d103c-5f1b-4286-8306-5ea9015940a8",
   "metadata": {},
   "outputs": [
    {
     "data": {
      "text/html": [
       "<div>\n",
       "<style scoped>\n",
       "    .dataframe tbody tr th:only-of-type {\n",
       "        vertical-align: middle;\n",
       "    }\n",
       "\n",
       "    .dataframe tbody tr th {\n",
       "        vertical-align: top;\n",
       "    }\n",
       "\n",
       "    .dataframe thead th {\n",
       "        text-align: right;\n",
       "    }\n",
       "</style>\n",
       "<table border=\"1\" class=\"dataframe\">\n",
       "  <thead>\n",
       "    <tr style=\"text-align: right;\">\n",
       "      <th></th>\n",
       "      <th>missing_data</th>\n",
       "      <th>missing_data_per</th>\n",
       "    </tr>\n",
       "  </thead>\n",
       "  <tbody>\n",
       "    <tr>\n",
       "      <th>car</th>\n",
       "      <td>12576</td>\n",
       "      <td>99.148534</td>\n",
       "    </tr>\n",
       "    <tr>\n",
       "      <th>Bar</th>\n",
       "      <td>107</td>\n",
       "      <td>0.843582</td>\n",
       "    </tr>\n",
       "    <tr>\n",
       "      <th>CoffeeHouse</th>\n",
       "      <td>217</td>\n",
       "      <td>1.710817</td>\n",
       "    </tr>\n",
       "    <tr>\n",
       "      <th>CarryAway</th>\n",
       "      <td>151</td>\n",
       "      <td>1.190476</td>\n",
       "    </tr>\n",
       "    <tr>\n",
       "      <th>RestaurantLessThan20</th>\n",
       "      <td>130</td>\n",
       "      <td>1.024913</td>\n",
       "    </tr>\n",
       "    <tr>\n",
       "      <th>Restaurant20To50</th>\n",
       "      <td>189</td>\n",
       "      <td>1.490066</td>\n",
       "    </tr>\n",
       "  </tbody>\n",
       "</table>\n",
       "</div>"
      ],
      "text/plain": [
       "                      missing_data  missing_data_per\n",
       "car                          12576         99.148534\n",
       "Bar                            107          0.843582\n",
       "CoffeeHouse                    217          1.710817\n",
       "CarryAway                      151          1.190476\n",
       "RestaurantLessThan20           130          1.024913\n",
       "Restaurant20To50               189          1.490066"
      ]
     },
     "execution_count": 11,
     "metadata": {},
     "output_type": "execute_result"
    }
   ],
   "source": [
    "#Investigate the dataset for missing or problematic data.\n",
    "missing_data = Coupons.isnull().sum()\n",
    "missing_data = missing_data[missing_data != 0]\n",
    "\n",
    "missing_data_per = Coupons.isnull().sum()*100/len(Coupons)\n",
    "missing_data_per = missing_data_per[missing_data_per != 0]\n",
    "missing_data_df = pd.DataFrame({'missing_data':missing_data, 'missing_data_per':missing_data_per})\n",
    "missing_data_df"
   ]
  },
  {
   "cell_type": "code",
   "execution_count": 19,
   "id": "a3701d83-9289-4e89-a6eb-a967e0eedec7",
   "metadata": {},
   "outputs": [],
   "source": [
    "# 3.Decide what to do about your missing data -- drop, replace, other..."
   ]
  },
  {
   "cell_type": "code",
   "execution_count": 12,
   "id": "5a5f8aff-d099-4a2e-a145-de86227444db",
   "metadata": {},
   "outputs": [
    {
     "data": {
      "text/plain": [
       "(12684, 25)"
      ]
     },
     "execution_count": 12,
     "metadata": {},
     "output_type": "execute_result"
    }
   ],
   "source": [
    "# The 'Car' metric has over 99% of its values missing, so it is not contributing much value. Therefore, it would be better to drop\n",
    "# this metric from further analysis.\n",
    "Coupons.drop('car', axis = 1, inplace = True)\n",
    "Coupons.shape"
   ]
  },
  {
   "cell_type": "code",
   "execution_count": 14,
   "id": "2a6630aa-3260-447f-b122-eb6515e3d0ad",
   "metadata": {},
   "outputs": [
    {
     "data": {
      "text/plain": [
       "Bar\n",
       "never    5197\n",
       "less1    3482\n",
       "1~3      2473\n",
       "4~8      1076\n",
       "gt8       349\n",
       "Name: count, dtype: int64"
      ]
     },
     "execution_count": 14,
     "metadata": {},
     "output_type": "execute_result"
    }
   ],
   "source": [
    "# Other metrics such as 'Bar', 'CoffeeHouse', 'CarryAway', 'RestaurantLessThan20', and 'Restaurant20To50' have 2% missing values.\n",
    "# Inspect the values to see which responses are most common in the surveys, and consider filling the missing values using the most \n",
    "# frequent response as the default.\n",
    "Coupons['Bar'].value_counts()\n"
   ]
  },
  {
   "cell_type": "code",
   "execution_count": 16,
   "id": "3cb6a242-9f38-4062-9889-4df920ff7a81",
   "metadata": {},
   "outputs": [
    {
     "data": {
      "text/plain": [
       "Bar\n",
       "never    5304\n",
       "less1    3482\n",
       "1~3      2473\n",
       "4~8      1076\n",
       "gt8       349\n",
       "Name: count, dtype: int64"
      ]
     },
     "execution_count": 16,
     "metadata": {},
     "output_type": "execute_result"
    }
   ],
   "source": [
    "Coupons['Bar'] = Coupons['Bar'].fillna(Coupons['Bar'].value_counts().index[0])\n",
    "Coupons['Bar'].value_counts()"
   ]
  },
  {
   "cell_type": "code",
   "execution_count": 17,
   "id": "1970f146-e490-426b-92b8-eaa5ddb6c909",
   "metadata": {},
   "outputs": [],
   "source": [
    "# updating the other metrics similar to 'bar'\n",
    "Coupons['CoffeeHouse'] = Coupons['CoffeeHouse'].fillna(Coupons['CoffeeHouse'].value_counts().index[0])\n",
    "Coupons['CarryAway'] = Coupons['CarryAway'].fillna(Coupons['CarryAway'].value_counts().index[0])\n",
    "Coupons['RestaurantLessThan20'] = Coupons['RestaurantLessThan20'].fillna(Coupons['RestaurantLessThan20'].value_counts().index[0])\n",
    "Coupons['Restaurant20To50'] = Coupons['Restaurant20To50'].fillna(Coupons['Restaurant20To50'].value_counts().index[0])"
   ]
  },
  {
   "cell_type": "code",
   "execution_count": 18,
   "id": "3c82de5c-3fd0-471a-8ff7-d77a8be3901d",
   "metadata": {},
   "outputs": [
    {
     "data": {
      "text/plain": [
       "destination             0\n",
       "passanger               0\n",
       "weather                 0\n",
       "temperature             0\n",
       "time                    0\n",
       "coupon                  0\n",
       "expiration              0\n",
       "gender                  0\n",
       "age                     0\n",
       "maritalStatus           0\n",
       "has_children            0\n",
       "education               0\n",
       "occupation              0\n",
       "income                  0\n",
       "Bar                     0\n",
       "CoffeeHouse             0\n",
       "CarryAway               0\n",
       "RestaurantLessThan20    0\n",
       "Restaurant20To50        0\n",
       "toCoupon_GEQ5min        0\n",
       "toCoupon_GEQ15min       0\n",
       "toCoupon_GEQ25min       0\n",
       "direction_same          0\n",
       "direction_opp           0\n",
       "Y                       0\n",
       "dtype: int64"
      ]
     },
     "execution_count": 18,
     "metadata": {},
     "output_type": "execute_result"
    }
   ],
   "source": [
    "# confirming the Coupons Data has no null values\n",
    "Coupons.isnull().sum()"
   ]
  },
  {
   "cell_type": "code",
   "execution_count": 21,
   "id": "b5c14a5c-25a4-402a-83c0-4a675fa28604",
   "metadata": {},
   "outputs": [],
   "source": [
    "# 4. What proportion of the total observations chose to accept the coupon?"
   ]
  },
  {
   "cell_type": "code",
   "execution_count": 131,
   "id": "a9c5ca66-9db2-4124-b670-2e072f176d72",
   "metadata": {},
   "outputs": [
    {
     "data": {
      "text/plain": [
       "0.5684326710816777"
      ]
     },
     "execution_count": 131,
     "metadata": {},
     "output_type": "execute_result"
    }
   ],
   "source": [
    "Coupon_acceptance = Coupons.query(\"Y == 1\")['Y'].value_counts().iloc[0]/Coupons['Y'].size\n",
    "Coupon_acceptance"
   ]
  },
  {
   "cell_type": "code",
   "execution_count": 237,
   "id": "2e1ac7f2-440b-49fb-843d-1ca4f23fb0c3",
   "metadata": {},
   "outputs": [
    {
     "name": "stdout",
     "output_type": "stream",
     "text": [
      "The total observations chose to accept the coupon -  56.84%\n"
     ]
    }
   ],
   "source": [
    "#Coupon_acceptance_per = np.round(Coupon_acceptance * 100, 2)\n",
    "#Coupon_acceptance_per = np.char.mod('%.2f%%', Coupon_acceptance)\n",
    "print(\"The total observations chose to accept the coupon - \",f\"{Coupon_acceptance*100:.2f}%\")"
   ]
  },
  {
   "cell_type": "code",
   "execution_count": 71,
   "id": "cb6165cd-b1e9-4c85-9e2d-8fd37f0b9253",
   "metadata": {},
   "outputs": [],
   "source": [
    "# 5. Use a bar plot to visualize the coupon column."
   ]
  },
  {
   "cell_type": "code",
   "execution_count": 83,
   "id": "e803afea-5715-4df1-bb3b-340710dcdb26",
   "metadata": {},
   "outputs": [
    {
     "data": {
      "text/plain": [
       "[Text(0.5, 0, 'Coupon Type'), Text(0, 0.5, 'Total Count')]"
      ]
     },
     "execution_count": 83,
     "metadata": {},
     "output_type": "execute_result"
    },
    {
     "data": {
      "image/png": "[encoded data removed]",
      "text/plain": [
       "<Figure size 640x480 with 1 Axes>"
      ]
     },
     "metadata": {},
     "output_type": "display_data"
    }
   ],
   "source": [
    "# Create the countplot\n",
    "view = sns.countplot(Coupons, x = 'coupon', hue = 'Y')\n",
    "\n",
    "# Rotate the x-axis labels\n",
    "view.tick_params(axis='x', rotation=45)\n",
    "\n",
    "# Set the labels\n",
    "view.set(xlabel='Coupon Type', ylabel='Total Count')"
   ]
  },
  {
   "cell_type": "code",
   "execution_count": 82,
   "id": "c474dd75-677a-4d80-9a5c-25ee0dbe72c6",
   "metadata": {},
   "outputs": [
    {
     "data": {
      "image/png": "[encoded data removed]",
      "text/plain": [
       "<Figure size 640x480 with 1 Axes>"
      ]
     },
     "metadata": {},
     "output_type": "display_data"
    }
   ],
   "source": [
    "# Create the countplot\n",
    "sns.countplot(data=Coupons, x='coupon', hue='Y')\n",
    "\n",
    "# Rotate the x-axis labels\n",
    "plt.xticks(rotation=45)\n",
    "\n",
    "# Set the labels\n",
    "plt.xlabel('Coupon Type')\n",
    "plt.ylabel('Total Count')\n",
    "\n",
    "# Show the plot\n",
    "plt.show()"
   ]
  },
  {
   "cell_type": "code",
   "execution_count": 84,
   "id": "74080b45-027e-49e3-b3e0-5b07a3f5c2ba",
   "metadata": {},
   "outputs": [],
   "source": [
    "# 6.Use a histogram to visualize the temperature column."
   ]
  },
  {
   "cell_type": "code",
   "execution_count": 86,
   "id": "e941caef-dce8-4d6c-b0bf-e01a70d23ab9",
   "metadata": {},
   "outputs": [
    {
     "data": {
      "text/plain": [
       "temperature\n",
       "80    6528\n",
       "55    3840\n",
       "30    2316\n",
       "Name: count, dtype: int64"
      ]
     },
     "execution_count": 86,
     "metadata": {},
     "output_type": "execute_result"
    }
   ],
   "source": [
    "Coupons['temperature'].value_counts() "
   ]
  },
  {
   "cell_type": "code",
   "execution_count": 98,
   "id": "0cafa02e-f9e1-40a7-9329-667c65aaae5d",
   "metadata": {},
   "outputs": [
    {
     "data": {
      "text/plain": [
       "Text(0.5, 1.0, 'Visualize Temperature')"
      ]
     },
     "execution_count": 98,
     "metadata": {},
     "output_type": "execute_result"
    },
    {
     "data": {
      "image/png": "[encoded data removed]",
      "text/plain": [
       "<Figure size 640x480 with 1 Axes>"
      ]
     },
     "metadata": {},
     "output_type": "display_data"
    }
   ],
   "source": [
    "plt.hist(Coupons['temperature'])\n",
    "plt.xlabel('temperature')\n",
    "plt.ylabel('Total count')\n",
    "plt.title('Visualize Temperature')"
   ]
  },
  {
   "cell_type": "code",
   "execution_count": 99,
   "id": "be52408f-f48d-4181-bedd-9bd6946ac8a1",
   "metadata": {},
   "outputs": [],
   "source": [
    "## Investigating the Bar Coupons\n",
    "## Now, we will lead you through an exploration of just the bar related coupons.\n",
    "# 1. Create a new DataFrame that contains just the bar coupons."
   ]
  },
  {
   "cell_type": "code",
   "execution_count": 101,
   "id": "df999f31-ed3a-45bd-82b0-6453e3c47d6e",
   "metadata": {},
   "outputs": [],
   "source": [
    "Bar_coupons = Coupons.query(\"coupon == 'Bar'\")"
   ]
  },
  {
   "cell_type": "code",
   "execution_count": 102,
   "id": "4a94d9cf-b551-4bb5-8e9f-fc435dc72381",
   "metadata": {},
   "outputs": [
    {
     "data": {
      "text/plain": [
       "(2017, 25)"
      ]
     },
     "execution_count": 102,
     "metadata": {},
     "output_type": "execute_result"
    }
   ],
   "source": [
    "Bar_coupons.shape"
   ]
  },
  {
   "cell_type": "code",
   "execution_count": 103,
   "id": "307c9350-d3c2-46f3-b1cb-7d48e5c1ac93",
   "metadata": {},
   "outputs": [
    {
     "data": {
      "text/html": [
       "<div>\n",
       "<style scoped>\n",
       "    .dataframe tbody tr th:only-of-type {\n",
       "        vertical-align: middle;\n",
       "    }\n",
       "\n",
       "    .dataframe tbody tr th {\n",
       "        vertical-align: top;\n",
       "    }\n",
       "\n",
       "    .dataframe thead th {\n",
       "        text-align: right;\n",
       "    }\n",
       "</style>\n",
       "<table border=\"1\" class=\"dataframe\">\n",
       "  <thead>\n",
       "    <tr style=\"text-align: right;\">\n",
       "      <th></th>\n",
       "      <th>destination</th>\n",
       "      <th>passanger</th>\n",
       "      <th>weather</th>\n",
       "      <th>temperature</th>\n",
       "      <th>time</th>\n",
       "      <th>coupon</th>\n",
       "      <th>expiration</th>\n",
       "      <th>gender</th>\n",
       "      <th>age</th>\n",
       "      <th>maritalStatus</th>\n",
       "      <th>...</th>\n",
       "      <th>CoffeeHouse</th>\n",
       "      <th>CarryAway</th>\n",
       "      <th>RestaurantLessThan20</th>\n",
       "      <th>Restaurant20To50</th>\n",
       "      <th>toCoupon_GEQ5min</th>\n",
       "      <th>toCoupon_GEQ15min</th>\n",
       "      <th>toCoupon_GEQ25min</th>\n",
       "      <th>direction_same</th>\n",
       "      <th>direction_opp</th>\n",
       "      <th>Y</th>\n",
       "    </tr>\n",
       "  </thead>\n",
       "  <tbody>\n",
       "    <tr>\n",
       "      <th>9</th>\n",
       "      <td>No Urgent Place</td>\n",
       "      <td>Kid(s)</td>\n",
       "      <td>Sunny</td>\n",
       "      <td>80</td>\n",
       "      <td>10AM</td>\n",
       "      <td>Bar</td>\n",
       "      <td>1d</td>\n",
       "      <td>Female</td>\n",
       "      <td>21</td>\n",
       "      <td>Unmarried partner</td>\n",
       "      <td>...</td>\n",
       "      <td>never</td>\n",
       "      <td>1~3</td>\n",
       "      <td>4~8</td>\n",
       "      <td>1~3</td>\n",
       "      <td>1</td>\n",
       "      <td>1</td>\n",
       "      <td>0</td>\n",
       "      <td>0</td>\n",
       "      <td>1</td>\n",
       "      <td>0</td>\n",
       "    </tr>\n",
       "    <tr>\n",
       "      <th>13</th>\n",
       "      <td>Home</td>\n",
       "      <td>Alone</td>\n",
       "      <td>Sunny</td>\n",
       "      <td>55</td>\n",
       "      <td>6PM</td>\n",
       "      <td>Bar</td>\n",
       "      <td>1d</td>\n",
       "      <td>Female</td>\n",
       "      <td>21</td>\n",
       "      <td>Unmarried partner</td>\n",
       "      <td>...</td>\n",
       "      <td>never</td>\n",
       "      <td>1~3</td>\n",
       "      <td>4~8</td>\n",
       "      <td>1~3</td>\n",
       "      <td>1</td>\n",
       "      <td>0</td>\n",
       "      <td>0</td>\n",
       "      <td>1</td>\n",
       "      <td>0</td>\n",
       "      <td>1</td>\n",
       "    </tr>\n",
       "    <tr>\n",
       "      <th>17</th>\n",
       "      <td>Work</td>\n",
       "      <td>Alone</td>\n",
       "      <td>Sunny</td>\n",
       "      <td>55</td>\n",
       "      <td>7AM</td>\n",
       "      <td>Bar</td>\n",
       "      <td>1d</td>\n",
       "      <td>Female</td>\n",
       "      <td>21</td>\n",
       "      <td>Unmarried partner</td>\n",
       "      <td>...</td>\n",
       "      <td>never</td>\n",
       "      <td>1~3</td>\n",
       "      <td>4~8</td>\n",
       "      <td>1~3</td>\n",
       "      <td>1</td>\n",
       "      <td>1</td>\n",
       "      <td>1</td>\n",
       "      <td>0</td>\n",
       "      <td>1</td>\n",
       "      <td>0</td>\n",
       "    </tr>\n",
       "    <tr>\n",
       "      <th>24</th>\n",
       "      <td>No Urgent Place</td>\n",
       "      <td>Friend(s)</td>\n",
       "      <td>Sunny</td>\n",
       "      <td>80</td>\n",
       "      <td>10AM</td>\n",
       "      <td>Bar</td>\n",
       "      <td>1d</td>\n",
       "      <td>Male</td>\n",
       "      <td>21</td>\n",
       "      <td>Single</td>\n",
       "      <td>...</td>\n",
       "      <td>less1</td>\n",
       "      <td>4~8</td>\n",
       "      <td>4~8</td>\n",
       "      <td>less1</td>\n",
       "      <td>1</td>\n",
       "      <td>0</td>\n",
       "      <td>0</td>\n",
       "      <td>0</td>\n",
       "      <td>1</td>\n",
       "      <td>1</td>\n",
       "    </tr>\n",
       "    <tr>\n",
       "      <th>35</th>\n",
       "      <td>Home</td>\n",
       "      <td>Alone</td>\n",
       "      <td>Sunny</td>\n",
       "      <td>55</td>\n",
       "      <td>6PM</td>\n",
       "      <td>Bar</td>\n",
       "      <td>1d</td>\n",
       "      <td>Male</td>\n",
       "      <td>21</td>\n",
       "      <td>Single</td>\n",
       "      <td>...</td>\n",
       "      <td>less1</td>\n",
       "      <td>4~8</td>\n",
       "      <td>4~8</td>\n",
       "      <td>less1</td>\n",
       "      <td>1</td>\n",
       "      <td>0</td>\n",
       "      <td>0</td>\n",
       "      <td>1</td>\n",
       "      <td>0</td>\n",
       "      <td>1</td>\n",
       "    </tr>\n",
       "  </tbody>\n",
       "</table>\n",
       "<p>5 rows × 25 columns</p>\n",
       "</div>"
      ],
      "text/plain": [
       "        destination  passanger weather  temperature  time coupon expiration  \\\n",
       "9   No Urgent Place     Kid(s)   Sunny           80  10AM    Bar         1d   \n",
       "13             Home      Alone   Sunny           55   6PM    Bar         1d   \n",
       "17             Work      Alone   Sunny           55   7AM    Bar         1d   \n",
       "24  No Urgent Place  Friend(s)   Sunny           80  10AM    Bar         1d   \n",
       "35             Home      Alone   Sunny           55   6PM    Bar         1d   \n",
       "\n",
       "    gender age      maritalStatus  ...  CoffeeHouse CarryAway  \\\n",
       "9   Female  21  Unmarried partner  ...        never       1~3   \n",
       "13  Female  21  Unmarried partner  ...        never       1~3   \n",
       "17  Female  21  Unmarried partner  ...        never       1~3   \n",
       "24    Male  21             Single  ...        less1       4~8   \n",
       "35    Male  21             Single  ...        less1       4~8   \n",
       "\n",
       "   RestaurantLessThan20 Restaurant20To50 toCoupon_GEQ5min toCoupon_GEQ15min  \\\n",
       "9                   4~8              1~3                1                 1   \n",
       "13                  4~8              1~3                1                 0   \n",
       "17                  4~8              1~3                1                 1   \n",
       "24                  4~8            less1                1                 0   \n",
       "35                  4~8            less1                1                 0   \n",
       "\n",
       "   toCoupon_GEQ25min direction_same direction_opp  Y  \n",
       "9                  0              0             1  0  \n",
       "13                 0              1             0  1  \n",
       "17                 1              0             1  0  \n",
       "24                 0              0             1  1  \n",
       "35                 0              1             0  1  \n",
       "\n",
       "[5 rows x 25 columns]"
      ]
     },
     "execution_count": 103,
     "metadata": {},
     "output_type": "execute_result"
    }
   ],
   "source": [
    "Bar_coupons.head()"
   ]
  },
  {
   "cell_type": "code",
   "execution_count": 171,
   "id": "0f50e0f0-76f1-48be-b2cb-4d95f485b93b",
   "metadata": {},
   "outputs": [
    {
     "data": {
      "text/html": [
       "<div>\n",
       "<style scoped>\n",
       "    .dataframe tbody tr th:only-of-type {\n",
       "        vertical-align: middle;\n",
       "    }\n",
       "\n",
       "    .dataframe tbody tr th {\n",
       "        vertical-align: top;\n",
       "    }\n",
       "\n",
       "    .dataframe thead th {\n",
       "        text-align: right;\n",
       "    }\n",
       "</style>\n",
       "<table border=\"1\" class=\"dataframe\">\n",
       "  <thead>\n",
       "    <tr style=\"text-align: right;\">\n",
       "      <th></th>\n",
       "      <th>destination</th>\n",
       "      <th>passanger</th>\n",
       "      <th>weather</th>\n",
       "      <th>temperature</th>\n",
       "      <th>time</th>\n",
       "      <th>coupon</th>\n",
       "      <th>expiration</th>\n",
       "      <th>gender</th>\n",
       "      <th>age</th>\n",
       "      <th>maritalStatus</th>\n",
       "      <th>...</th>\n",
       "      <th>CoffeeHouse</th>\n",
       "      <th>CarryAway</th>\n",
       "      <th>RestaurantLessThan20</th>\n",
       "      <th>Restaurant20To50</th>\n",
       "      <th>toCoupon_GEQ5min</th>\n",
       "      <th>toCoupon_GEQ15min</th>\n",
       "      <th>toCoupon_GEQ25min</th>\n",
       "      <th>direction_same</th>\n",
       "      <th>direction_opp</th>\n",
       "      <th>Y</th>\n",
       "    </tr>\n",
       "  </thead>\n",
       "  <tbody>\n",
       "    <tr>\n",
       "      <th>0</th>\n",
       "      <td>No Urgent Place</td>\n",
       "      <td>Kid(s)</td>\n",
       "      <td>Sunny</td>\n",
       "      <td>80</td>\n",
       "      <td>10AM</td>\n",
       "      <td>Bar</td>\n",
       "      <td>1d</td>\n",
       "      <td>Female</td>\n",
       "      <td>21</td>\n",
       "      <td>Unmarried partner</td>\n",
       "      <td>...</td>\n",
       "      <td>never</td>\n",
       "      <td>1~3</td>\n",
       "      <td>4~8</td>\n",
       "      <td>1~3</td>\n",
       "      <td>1</td>\n",
       "      <td>1</td>\n",
       "      <td>0</td>\n",
       "      <td>0</td>\n",
       "      <td>1</td>\n",
       "      <td>0</td>\n",
       "    </tr>\n",
       "    <tr>\n",
       "      <th>1</th>\n",
       "      <td>Home</td>\n",
       "      <td>Alone</td>\n",
       "      <td>Sunny</td>\n",
       "      <td>55</td>\n",
       "      <td>6PM</td>\n",
       "      <td>Bar</td>\n",
       "      <td>1d</td>\n",
       "      <td>Female</td>\n",
       "      <td>21</td>\n",
       "      <td>Unmarried partner</td>\n",
       "      <td>...</td>\n",
       "      <td>never</td>\n",
       "      <td>1~3</td>\n",
       "      <td>4~8</td>\n",
       "      <td>1~3</td>\n",
       "      <td>1</td>\n",
       "      <td>0</td>\n",
       "      <td>0</td>\n",
       "      <td>1</td>\n",
       "      <td>0</td>\n",
       "      <td>1</td>\n",
       "    </tr>\n",
       "    <tr>\n",
       "      <th>2</th>\n",
       "      <td>Work</td>\n",
       "      <td>Alone</td>\n",
       "      <td>Sunny</td>\n",
       "      <td>55</td>\n",
       "      <td>7AM</td>\n",
       "      <td>Bar</td>\n",
       "      <td>1d</td>\n",
       "      <td>Female</td>\n",
       "      <td>21</td>\n",
       "      <td>Unmarried partner</td>\n",
       "      <td>...</td>\n",
       "      <td>never</td>\n",
       "      <td>1~3</td>\n",
       "      <td>4~8</td>\n",
       "      <td>1~3</td>\n",
       "      <td>1</td>\n",
       "      <td>1</td>\n",
       "      <td>1</td>\n",
       "      <td>0</td>\n",
       "      <td>1</td>\n",
       "      <td>0</td>\n",
       "    </tr>\n",
       "    <tr>\n",
       "      <th>3</th>\n",
       "      <td>No Urgent Place</td>\n",
       "      <td>Friend(s)</td>\n",
       "      <td>Sunny</td>\n",
       "      <td>80</td>\n",
       "      <td>10AM</td>\n",
       "      <td>Bar</td>\n",
       "      <td>1d</td>\n",
       "      <td>Male</td>\n",
       "      <td>21</td>\n",
       "      <td>Single</td>\n",
       "      <td>...</td>\n",
       "      <td>less1</td>\n",
       "      <td>4~8</td>\n",
       "      <td>4~8</td>\n",
       "      <td>less1</td>\n",
       "      <td>1</td>\n",
       "      <td>0</td>\n",
       "      <td>0</td>\n",
       "      <td>0</td>\n",
       "      <td>1</td>\n",
       "      <td>1</td>\n",
       "    </tr>\n",
       "    <tr>\n",
       "      <th>4</th>\n",
       "      <td>Home</td>\n",
       "      <td>Alone</td>\n",
       "      <td>Sunny</td>\n",
       "      <td>55</td>\n",
       "      <td>6PM</td>\n",
       "      <td>Bar</td>\n",
       "      <td>1d</td>\n",
       "      <td>Male</td>\n",
       "      <td>21</td>\n",
       "      <td>Single</td>\n",
       "      <td>...</td>\n",
       "      <td>less1</td>\n",
       "      <td>4~8</td>\n",
       "      <td>4~8</td>\n",
       "      <td>less1</td>\n",
       "      <td>1</td>\n",
       "      <td>0</td>\n",
       "      <td>0</td>\n",
       "      <td>1</td>\n",
       "      <td>0</td>\n",
       "      <td>1</td>\n",
       "    </tr>\n",
       "    <tr>\n",
       "      <th>...</th>\n",
       "      <td>...</td>\n",
       "      <td>...</td>\n",
       "      <td>...</td>\n",
       "      <td>...</td>\n",
       "      <td>...</td>\n",
       "      <td>...</td>\n",
       "      <td>...</td>\n",
       "      <td>...</td>\n",
       "      <td>...</td>\n",
       "      <td>...</td>\n",
       "      <td>...</td>\n",
       "      <td>...</td>\n",
       "      <td>...</td>\n",
       "      <td>...</td>\n",
       "      <td>...</td>\n",
       "      <td>...</td>\n",
       "      <td>...</td>\n",
       "      <td>...</td>\n",
       "      <td>...</td>\n",
       "      <td>...</td>\n",
       "      <td>...</td>\n",
       "    </tr>\n",
       "    <tr>\n",
       "      <th>2012</th>\n",
       "      <td>No Urgent Place</td>\n",
       "      <td>Friend(s)</td>\n",
       "      <td>Sunny</td>\n",
       "      <td>80</td>\n",
       "      <td>10PM</td>\n",
       "      <td>Bar</td>\n",
       "      <td>1d</td>\n",
       "      <td>Male</td>\n",
       "      <td>26</td>\n",
       "      <td>Single</td>\n",
       "      <td>...</td>\n",
       "      <td>never</td>\n",
       "      <td>1~3</td>\n",
       "      <td>4~8</td>\n",
       "      <td>1~3</td>\n",
       "      <td>1</td>\n",
       "      <td>1</td>\n",
       "      <td>0</td>\n",
       "      <td>0</td>\n",
       "      <td>1</td>\n",
       "      <td>0</td>\n",
       "    </tr>\n",
       "    <tr>\n",
       "      <th>2013</th>\n",
       "      <td>No Urgent Place</td>\n",
       "      <td>Friend(s)</td>\n",
       "      <td>Sunny</td>\n",
       "      <td>55</td>\n",
       "      <td>10PM</td>\n",
       "      <td>Bar</td>\n",
       "      <td>2h</td>\n",
       "      <td>Male</td>\n",
       "      <td>26</td>\n",
       "      <td>Single</td>\n",
       "      <td>...</td>\n",
       "      <td>never</td>\n",
       "      <td>1~3</td>\n",
       "      <td>4~8</td>\n",
       "      <td>1~3</td>\n",
       "      <td>1</td>\n",
       "      <td>1</td>\n",
       "      <td>0</td>\n",
       "      <td>0</td>\n",
       "      <td>1</td>\n",
       "      <td>0</td>\n",
       "    </tr>\n",
       "    <tr>\n",
       "      <th>2014</th>\n",
       "      <td>No Urgent Place</td>\n",
       "      <td>Alone</td>\n",
       "      <td>Rainy</td>\n",
       "      <td>55</td>\n",
       "      <td>10AM</td>\n",
       "      <td>Bar</td>\n",
       "      <td>1d</td>\n",
       "      <td>Male</td>\n",
       "      <td>26</td>\n",
       "      <td>Single</td>\n",
       "      <td>...</td>\n",
       "      <td>never</td>\n",
       "      <td>1~3</td>\n",
       "      <td>4~8</td>\n",
       "      <td>1~3</td>\n",
       "      <td>1</td>\n",
       "      <td>1</td>\n",
       "      <td>0</td>\n",
       "      <td>0</td>\n",
       "      <td>1</td>\n",
       "      <td>0</td>\n",
       "    </tr>\n",
       "    <tr>\n",
       "      <th>2015</th>\n",
       "      <td>No Urgent Place</td>\n",
       "      <td>Partner</td>\n",
       "      <td>Rainy</td>\n",
       "      <td>55</td>\n",
       "      <td>6PM</td>\n",
       "      <td>Bar</td>\n",
       "      <td>2h</td>\n",
       "      <td>Male</td>\n",
       "      <td>26</td>\n",
       "      <td>Single</td>\n",
       "      <td>...</td>\n",
       "      <td>never</td>\n",
       "      <td>1~3</td>\n",
       "      <td>4~8</td>\n",
       "      <td>1~3</td>\n",
       "      <td>1</td>\n",
       "      <td>1</td>\n",
       "      <td>0</td>\n",
       "      <td>0</td>\n",
       "      <td>1</td>\n",
       "      <td>0</td>\n",
       "    </tr>\n",
       "    <tr>\n",
       "      <th>2016</th>\n",
       "      <td>Work</td>\n",
       "      <td>Alone</td>\n",
       "      <td>Snowy</td>\n",
       "      <td>30</td>\n",
       "      <td>7AM</td>\n",
       "      <td>Bar</td>\n",
       "      <td>1d</td>\n",
       "      <td>Male</td>\n",
       "      <td>26</td>\n",
       "      <td>Single</td>\n",
       "      <td>...</td>\n",
       "      <td>never</td>\n",
       "      <td>1~3</td>\n",
       "      <td>4~8</td>\n",
       "      <td>1~3</td>\n",
       "      <td>1</td>\n",
       "      <td>1</td>\n",
       "      <td>1</td>\n",
       "      <td>0</td>\n",
       "      <td>1</td>\n",
       "      <td>0</td>\n",
       "    </tr>\n",
       "  </tbody>\n",
       "</table>\n",
       "<p>2017 rows × 25 columns</p>\n",
       "</div>"
      ],
      "text/plain": [
       "          destination  passanger weather  temperature  time coupon expiration  \\\n",
       "0     No Urgent Place     Kid(s)   Sunny           80  10AM    Bar         1d   \n",
       "1                Home      Alone   Sunny           55   6PM    Bar         1d   \n",
       "2                Work      Alone   Sunny           55   7AM    Bar         1d   \n",
       "3     No Urgent Place  Friend(s)   Sunny           80  10AM    Bar         1d   \n",
       "4                Home      Alone   Sunny           55   6PM    Bar         1d   \n",
       "...               ...        ...     ...          ...   ...    ...        ...   \n",
       "2012  No Urgent Place  Friend(s)   Sunny           80  10PM    Bar         1d   \n",
       "2013  No Urgent Place  Friend(s)   Sunny           55  10PM    Bar         2h   \n",
       "2014  No Urgent Place      Alone   Rainy           55  10AM    Bar         1d   \n",
       "2015  No Urgent Place    Partner   Rainy           55   6PM    Bar         2h   \n",
       "2016             Work      Alone   Snowy           30   7AM    Bar         1d   \n",
       "\n",
       "      gender age      maritalStatus  ...  CoffeeHouse CarryAway  \\\n",
       "0     Female  21  Unmarried partner  ...        never       1~3   \n",
       "1     Female  21  Unmarried partner  ...        never       1~3   \n",
       "2     Female  21  Unmarried partner  ...        never       1~3   \n",
       "3       Male  21             Single  ...        less1       4~8   \n",
       "4       Male  21             Single  ...        less1       4~8   \n",
       "...      ...  ..                ...  ...          ...       ...   \n",
       "2012    Male  26             Single  ...        never       1~3   \n",
       "2013    Male  26             Single  ...        never       1~3   \n",
       "2014    Male  26             Single  ...        never       1~3   \n",
       "2015    Male  26             Single  ...        never       1~3   \n",
       "2016    Male  26             Single  ...        never       1~3   \n",
       "\n",
       "     RestaurantLessThan20 Restaurant20To50 toCoupon_GEQ5min toCoupon_GEQ15min  \\\n",
       "0                     4~8              1~3                1                 1   \n",
       "1                     4~8              1~3                1                 0   \n",
       "2                     4~8              1~3                1                 1   \n",
       "3                     4~8            less1                1                 0   \n",
       "4                     4~8            less1                1                 0   \n",
       "...                   ...              ...              ...               ...   \n",
       "2012                  4~8              1~3                1                 1   \n",
       "2013                  4~8              1~3                1                 1   \n",
       "2014                  4~8              1~3                1                 1   \n",
       "2015                  4~8              1~3                1                 1   \n",
       "2016                  4~8              1~3                1                 1   \n",
       "\n",
       "     toCoupon_GEQ25min direction_same direction_opp  Y  \n",
       "0                    0              0             1  0  \n",
       "1                    0              1             0  1  \n",
       "2                    1              0             1  0  \n",
       "3                    0              0             1  1  \n",
       "4                    0              1             0  1  \n",
       "...                ...            ...           ... ..  \n",
       "2012                 0              0             1  0  \n",
       "2013                 0              0             1  0  \n",
       "2014                 0              0             1  0  \n",
       "2015                 0              0             1  0  \n",
       "2016                 1              0             1  0  \n",
       "\n",
       "[2017 rows x 25 columns]"
      ]
     },
     "execution_count": 171,
     "metadata": {},
     "output_type": "execute_result"
    }
   ],
   "source": [
    "Bar_coupons.reset_index(drop=True)"
   ]
  },
  {
   "cell_type": "code",
   "execution_count": 257,
   "id": "42b683a0-591d-4c30-892f-2495f09bef11",
   "metadata": {},
   "outputs": [
    {
     "data": {
      "text/plain": [
       "Text(0, 0.5, 'Total Count')"
      ]
     },
     "execution_count": 257,
     "metadata": {},
     "output_type": "execute_result"
    },
    {
     "data": {
      "image/png": "[encoded data removed]",
      "text/plain": [
       "<Figure size 640x480 with 1 Axes>"
      ]
     },
     "metadata": {},
     "output_type": "display_data"
    }
   ],
   "source": [
    "# Create the countplot\n",
    "a = sns.countplot(data=Bar_coupons, x='Bar', hue='Y')\n",
    "b = sns.countplot(data=Bar_coupons, x='age', hue='Y')\n",
    "c = sns.countplot(data=Bar_coupons, x='maritalStatus', hue='Y')\n",
    "\n",
    "# Rotate the x-axis labels\n",
    "plt.xticks(rotation=90)\n",
    "\n",
    "# Set the labels\n",
    "plt.xlabel('Bar Visit Frequency, AGE, Marital-Status')\n",
    "plt.ylabel('Total Count')\n",
    "\n",
    "# Show the plot\n",
    "#plt.show()"
   ]
  },
  {
   "cell_type": "code",
   "execution_count": 259,
   "id": "43d8356a-92be-4109-a16a-76486b0a4dd7",
   "metadata": {},
   "outputs": [],
   "source": [
    "# 2. What proportion of bar coupons were accepted?"
   ]
  },
  {
   "cell_type": "code",
   "execution_count": 258,
   "id": "f874bc72-d5dd-4b9e-bd6c-a655e315a422",
   "metadata": {},
   "outputs": [
    {
     "name": "stdout",
     "output_type": "stream",
     "text": [
      "The total proportion of bar coupons chose that were accepted - 41.00%\n"
     ]
    }
   ],
   "source": [
    "Bar_coupon_acceptance = Bar_coupons.query(\"Y == 1\")['Y'].value_counts().iloc[0]/Bar_coupons['Y'].size\n",
    "Bar_coupon_acceptance\n",
    "print(\"The total proportion of bar coupons chose that were accepted -\", f\"{Bar_coupon_acceptance*100:.2f}%\")"
   ]
  },
  {
   "cell_type": "code",
   "execution_count": 144,
   "id": "5106b328-767d-4a95-8e35-3030bf8056f7",
   "metadata": {},
   "outputs": [],
   "source": [
    "# 3. Compare the acceptance rate between those who went to a bar 3 or fewer times a month to those who went more."
   ]
  },
  {
   "cell_type": "code",
   "execution_count": 145,
   "id": "bffdbe37-cb32-46c7-bc14-5b603f6955d1",
   "metadata": {},
   "outputs": [
    {
     "data": {
      "text/plain": [
       "Bar\n",
       "never    851\n",
       "less1    570\n",
       "1~3      397\n",
       "4~8      150\n",
       "gt8       49\n",
       "Name: count, dtype: int64"
      ]
     },
     "execution_count": 145,
     "metadata": {},
     "output_type": "execute_result"
    }
   ],
   "source": [
    "Bar_coupons['Bar'].value_counts()"
   ]
  },
  {
   "cell_type": "code",
   "execution_count": 146,
   "id": "437b48ff-11d9-49cf-acea-72ff4b622919",
   "metadata": {},
   "outputs": [
    {
     "data": {
      "text/plain": [
       "Bar\n",
       "1~3      257\n",
       "less1    253\n",
       "never    164\n",
       "4~8      117\n",
       "gt8       36\n",
       "Name: count, dtype: int64"
      ]
     },
     "execution_count": 146,
     "metadata": {},
     "output_type": "execute_result"
    }
   ],
   "source": [
    "Bar_coupons.query(\"Y == 1\")['Bar'].value_counts()"
   ]
  },
  {
   "cell_type": "code",
   "execution_count": 147,
   "id": "128357ec-e758-4a83-a74d-1c08b7e6cece",
   "metadata": {},
   "outputs": [],
   "source": [
    "Bar_morethan3 = ['4~8', 'gt8 ']"
   ]
  },
  {
   "cell_type": "code",
   "execution_count": 148,
   "id": "0b80cdde-e96b-417f-816e-0dbf6bb66b08",
   "metadata": {},
   "outputs": [],
   "source": [
    "Bar_coupon_acceptance_3timesorless = None\n",
    "Bar_coupon_acceptance_morethan3 = None\n",
    "Bar_coupon_acceptance_morethan3 = Bar_coupons.query('Bar in @Bar_morethan3').query(\"Y == 1\")['Y'].value_counts().iloc[0]/Bar_coupons.query('Bar in @Bar_morethan3')['Y'].size\n",
    "Bar_coupon_acceptance_3timesorless = Bar_coupons.query('Bar != @Bar_morethan3').query(\"Y == 1\")['Y'].value_counts().iloc[0]/Bar_coupons.query('Bar != @Bar_morethan3')['Y'].size"
   ]
  },
  {
   "cell_type": "code",
   "execution_count": 239,
   "id": "04aa12cc-a013-46f1-a67f-7c20b1586830",
   "metadata": {},
   "outputs": [
    {
     "name": "stdout",
     "output_type": "stream",
     "text": [
      "The Bar coupon acceptance rate for those who went to a bar 3 or fewer times a month: 38.03%\n",
      "The Bar coupon acceptance rate for those who went to a bar more than 3 time a month: 78.00%\n"
     ]
    }
   ],
   "source": [
    "print (\"The Bar coupon acceptance rate for those who went to a bar 3 or fewer times a month:\", f\"{Bar_coupon_acceptance_3timesorless*100:.2f}%\")\n",
    "print (\"The Bar coupon acceptance rate for those who went to a bar more than 3 time a month:\", f\"{Bar_coupon_acceptance_morethan3*100:.2f}%\")"
   ]
  },
  {
   "cell_type": "code",
   "execution_count": 150,
   "id": "760951e0-2aae-4e50-85ba-ad9c2100ec64",
   "metadata": {},
   "outputs": [],
   "source": [
    "# 4. Compare the acceptance rate between drivers who go to a bar more than once a month and are over the age of 25 to the all others.\n",
    "# Is there a difference?"
   ]
  },
  {
   "cell_type": "code",
   "execution_count": 151,
   "id": "12fb1f67-0bd0-48de-9e9a-b43036599e39",
   "metadata": {},
   "outputs": [
    {
     "data": {
      "text/plain": [
       "age\n",
       "21         417\n",
       "26         395\n",
       "31         339\n",
       "50plus     283\n",
       "36         209\n",
       "41         178\n",
       "46         109\n",
       "below21     87\n",
       "Name: count, dtype: int64"
      ]
     },
     "execution_count": 151,
     "metadata": {},
     "output_type": "execute_result"
    }
   ],
   "source": [
    "Bar_coupons['age'].value_counts()"
   ]
  },
  {
   "cell_type": "code",
   "execution_count": 152,
   "id": "ecd31c0c-e646-46a6-9efc-ac72467bd05e",
   "metadata": {},
   "outputs": [],
   "source": [
    "Bar_morethan1 = ['1~3', '4~8', 'gt8']\n",
    "Age_lessthan25 = ['21', 'below21']"
   ]
  },
  {
   "cell_type": "code",
   "execution_count": 179,
   "id": "f8ac75c6-3046-42fc-9c25-1c258268f67e",
   "metadata": {},
   "outputs": [
    {
     "name": "stderr",
     "output_type": "stream",
     "text": [
      "/var/folders/z_/9p038pkx1n9_c5jbhhjrbnmh0000gr/T/ipykernel_52417/696151908.py:10: SettingWithCopyWarning: \n",
      "A value is trying to be set on a copy of a slice from a DataFrame.\n",
      "Try using .loc[row_indexer,col_indexer] = value instead\n",
      "\n",
      "See the caveats in the documentation: https://pandas.pydata.org/pandas-docs/stable/user_guide/indexing.html#returning-a-view-versus-a-copy\n",
      "  Bar_coupons['Acceptance_Condition1'] = Bar_coupons[['Bar','age']].apply(coupon_acceptance_condition, axis=1)\n"
     ]
    },
    {
     "data": {
      "text/html": [
       "<div>\n",
       "<style scoped>\n",
       "    .dataframe tbody tr th:only-of-type {\n",
       "        vertical-align: middle;\n",
       "    }\n",
       "\n",
       "    .dataframe tbody tr th {\n",
       "        vertical-align: top;\n",
       "    }\n",
       "\n",
       "    .dataframe thead th {\n",
       "        text-align: right;\n",
       "    }\n",
       "</style>\n",
       "<table border=\"1\" class=\"dataframe\">\n",
       "  <thead>\n",
       "    <tr style=\"text-align: right;\">\n",
       "      <th></th>\n",
       "      <th>Bar</th>\n",
       "      <th>age</th>\n",
       "      <th>Acceptance_Condition1</th>\n",
       "    </tr>\n",
       "  </thead>\n",
       "  <tbody>\n",
       "    <tr>\n",
       "      <th>9</th>\n",
       "      <td>never</td>\n",
       "      <td>21</td>\n",
       "      <td>0</td>\n",
       "    </tr>\n",
       "    <tr>\n",
       "      <th>46</th>\n",
       "      <td>never</td>\n",
       "      <td>46</td>\n",
       "      <td>0</td>\n",
       "    </tr>\n",
       "    <tr>\n",
       "      <th>75</th>\n",
       "      <td>less1</td>\n",
       "      <td>46</td>\n",
       "      <td>0</td>\n",
       "    </tr>\n",
       "    <tr>\n",
       "      <th>90</th>\n",
       "      <td>1~3</td>\n",
       "      <td>21</td>\n",
       "      <td>0</td>\n",
       "    </tr>\n",
       "    <tr>\n",
       "      <th>112</th>\n",
       "      <td>1~3</td>\n",
       "      <td>26</td>\n",
       "      <td>1</td>\n",
       "    </tr>\n",
       "    <tr>\n",
       "      <th>141</th>\n",
       "      <td>never</td>\n",
       "      <td>26</td>\n",
       "      <td>0</td>\n",
       "    </tr>\n",
       "    <tr>\n",
       "      <th>156</th>\n",
       "      <td>gt8</td>\n",
       "      <td>26</td>\n",
       "      <td>1</td>\n",
       "    </tr>\n",
       "    <tr>\n",
       "      <th>195</th>\n",
       "      <td>less1</td>\n",
       "      <td>21</td>\n",
       "      <td>0</td>\n",
       "    </tr>\n",
       "    <tr>\n",
       "      <th>268</th>\n",
       "      <td>never</td>\n",
       "      <td>31</td>\n",
       "      <td>0</td>\n",
       "    </tr>\n",
       "    <tr>\n",
       "      <th>290</th>\n",
       "      <td>never</td>\n",
       "      <td>41</td>\n",
       "      <td>0</td>\n",
       "    </tr>\n",
       "    <tr>\n",
       "      <th>352</th>\n",
       "      <td>less1</td>\n",
       "      <td>31</td>\n",
       "      <td>0</td>\n",
       "    </tr>\n",
       "    <tr>\n",
       "      <th>418</th>\n",
       "      <td>never</td>\n",
       "      <td>50plus</td>\n",
       "      <td>0</td>\n",
       "    </tr>\n",
       "    <tr>\n",
       "      <th>454</th>\n",
       "      <td>gt8</td>\n",
       "      <td>31</td>\n",
       "      <td>1</td>\n",
       "    </tr>\n",
       "    <tr>\n",
       "      <th>532</th>\n",
       "      <td>1~3</td>\n",
       "      <td>50plus</td>\n",
       "      <td>1</td>\n",
       "    </tr>\n",
       "    <tr>\n",
       "      <th>569</th>\n",
       "      <td>4~8</td>\n",
       "      <td>31</td>\n",
       "      <td>1</td>\n",
       "    </tr>\n",
       "    <tr>\n",
       "      <th>591</th>\n",
       "      <td>4~8</td>\n",
       "      <td>26</td>\n",
       "      <td>1</td>\n",
       "    </tr>\n",
       "    <tr>\n",
       "      <th>635</th>\n",
       "      <td>less1</td>\n",
       "      <td>41</td>\n",
       "      <td>0</td>\n",
       "    </tr>\n",
       "    <tr>\n",
       "      <th>664</th>\n",
       "      <td>1~3</td>\n",
       "      <td>31</td>\n",
       "      <td>1</td>\n",
       "    </tr>\n",
       "    <tr>\n",
       "      <th>686</th>\n",
       "      <td>less1</td>\n",
       "      <td>36</td>\n",
       "      <td>0</td>\n",
       "    </tr>\n",
       "    <tr>\n",
       "      <th>1217</th>\n",
       "      <td>never</td>\n",
       "      <td>below21</td>\n",
       "      <td>0</td>\n",
       "    </tr>\n",
       "    <tr>\n",
       "      <th>1239</th>\n",
       "      <td>less1</td>\n",
       "      <td>26</td>\n",
       "      <td>0</td>\n",
       "    </tr>\n",
       "    <tr>\n",
       "      <th>1378</th>\n",
       "      <td>1~3</td>\n",
       "      <td>41</td>\n",
       "      <td>1</td>\n",
       "    </tr>\n",
       "    <tr>\n",
       "      <th>1532</th>\n",
       "      <td>never</td>\n",
       "      <td>36</td>\n",
       "      <td>0</td>\n",
       "    </tr>\n",
       "    <tr>\n",
       "      <th>1664</th>\n",
       "      <td>gt8</td>\n",
       "      <td>50plus</td>\n",
       "      <td>1</td>\n",
       "    </tr>\n",
       "    <tr>\n",
       "      <th>1774</th>\n",
       "      <td>4~8</td>\n",
       "      <td>21</td>\n",
       "      <td>0</td>\n",
       "    </tr>\n",
       "    <tr>\n",
       "      <th>1796</th>\n",
       "      <td>1~3</td>\n",
       "      <td>36</td>\n",
       "      <td>1</td>\n",
       "    </tr>\n",
       "    <tr>\n",
       "      <th>2016</th>\n",
       "      <td>less1</td>\n",
       "      <td>50plus</td>\n",
       "      <td>0</td>\n",
       "    </tr>\n",
       "    <tr>\n",
       "      <th>2060</th>\n",
       "      <td>4~8</td>\n",
       "      <td>36</td>\n",
       "      <td>1</td>\n",
       "    </tr>\n",
       "    <tr>\n",
       "      <th>2525</th>\n",
       "      <td>4~8</td>\n",
       "      <td>50plus</td>\n",
       "      <td>1</td>\n",
       "    </tr>\n",
       "    <tr>\n",
       "      <th>2634</th>\n",
       "      <td>4~8</td>\n",
       "      <td>46</td>\n",
       "      <td>1</td>\n",
       "    </tr>\n",
       "    <tr>\n",
       "      <th>2984</th>\n",
       "      <td>gt8</td>\n",
       "      <td>21</td>\n",
       "      <td>0</td>\n",
       "    </tr>\n",
       "    <tr>\n",
       "      <th>4305</th>\n",
       "      <td>1~3</td>\n",
       "      <td>46</td>\n",
       "      <td>1</td>\n",
       "    </tr>\n",
       "    <tr>\n",
       "      <th>4434</th>\n",
       "      <td>less1</td>\n",
       "      <td>below21</td>\n",
       "      <td>0</td>\n",
       "    </tr>\n",
       "    <tr>\n",
       "      <th>6236</th>\n",
       "      <td>4~8</td>\n",
       "      <td>41</td>\n",
       "      <td>1</td>\n",
       "    </tr>\n",
       "    <tr>\n",
       "      <th>6517</th>\n",
       "      <td>1~3</td>\n",
       "      <td>below21</td>\n",
       "      <td>0</td>\n",
       "    </tr>\n",
       "    <tr>\n",
       "      <th>11498</th>\n",
       "      <td>gt8</td>\n",
       "      <td>below21</td>\n",
       "      <td>0</td>\n",
       "    </tr>\n",
       "  </tbody>\n",
       "</table>\n",
       "</div>"
      ],
      "text/plain": [
       "         Bar      age  Acceptance_Condition1\n",
       "9      never       21                      0\n",
       "46     never       46                      0\n",
       "75     less1       46                      0\n",
       "90       1~3       21                      0\n",
       "112      1~3       26                      1\n",
       "141    never       26                      0\n",
       "156      gt8       26                      1\n",
       "195    less1       21                      0\n",
       "268    never       31                      0\n",
       "290    never       41                      0\n",
       "352    less1       31                      0\n",
       "418    never   50plus                      0\n",
       "454      gt8       31                      1\n",
       "532      1~3   50plus                      1\n",
       "569      4~8       31                      1\n",
       "591      4~8       26                      1\n",
       "635    less1       41                      0\n",
       "664      1~3       31                      1\n",
       "686    less1       36                      0\n",
       "1217   never  below21                      0\n",
       "1239   less1       26                      0\n",
       "1378     1~3       41                      1\n",
       "1532   never       36                      0\n",
       "1664     gt8   50plus                      1\n",
       "1774     4~8       21                      0\n",
       "1796     1~3       36                      1\n",
       "2016   less1   50plus                      0\n",
       "2060     4~8       36                      1\n",
       "2525     4~8   50plus                      1\n",
       "2634     4~8       46                      1\n",
       "2984     gt8       21                      0\n",
       "4305     1~3       46                      1\n",
       "4434   less1  below21                      0\n",
       "6236     4~8       41                      1\n",
       "6517     1~3  below21                      0\n",
       "11498    gt8  below21                      0"
      ]
     },
     "execution_count": 179,
     "metadata": {},
     "output_type": "execute_result"
    }
   ],
   "source": [
    "# define conditions for bar coupon acceptence:\n",
    "\n",
    "def coupon_acceptance_condition(Bar_coupons):\n",
    "    if Bar_coupons['Bar'] in ['1~3', '4~8', 'gt8'] and Bar_coupons['age'] in ['26','31','50plus','36','41','46']:\n",
    "        return 1\n",
    "    else:\n",
    "        return 0\n",
    "\n",
    "#Bar_coupons_condition1 = pd.DataFrame({'Bar': Bar_coupons['Bar'], 'age':  Bar_coupons['Bar'] })\n",
    "Bar_coupons['Acceptance_Condition1'] = Bar_coupons[['Bar','age']].apply(coupon_acceptance_condition, axis=1)\n",
    "#Bar_coupons[['Bar','age','Acceptance_Condition1']]\n",
    "Bar_coupons.loc[:, ('Bar','age','Acceptance_Condition1')].drop_duplicates()"
   ]
  },
  {
   "cell_type": "code",
   "execution_count": 181,
   "id": "b468c770-4366-4ed0-b3dd-c915eb55c793",
   "metadata": {},
   "outputs": [
    {
     "name": "stdout",
     "output_type": "stream",
     "text": [
      "0.6952380952380952 0.33500313087038197\n"
     ]
    }
   ],
   "source": [
    "Bar_coupon_acceptance_morethan1_over25yrs = Bar_coupons.query('Acceptance_Condition1 == 1').query(\"Y == 1\")['Y'].value_counts().iloc[0]/Bar_coupons.query('Acceptance_Condition1 == 1')['Y'].size\n",
    "Bar_coupon_acceptance_allothers = Bar_coupons.query('Acceptance_Condition1 != 1').query(\"Y == 1\")['Y'].value_counts().iloc[0]/Bar_coupons.query('Acceptance_Condition1 != 1')['Y'].size\n",
    "\n",
    "print(Bar_coupon_acceptance_morethan1_over25yrs, Bar_coupon_acceptance_allothers)\n"
   ]
  },
  {
   "cell_type": "code",
   "execution_count": 198,
   "id": "94dd3574-6f95-4655-9637-e0d97b66ea54",
   "metadata": {},
   "outputs": [
    {
     "name": "stdout",
     "output_type": "stream",
     "text": [
      "The bar coupon acceptance rate by drivers that meet 2 conditions - 69.52%\n",
      "The bar coupon acceptance rate by all other drivers - 33.50%\n"
     ]
    }
   ],
   "source": [
    "print (\"The bar coupon acceptance rate by drivers that meet 2 conditions -\", f\"{Bar_coupon_acceptance_morethan1_over25yrs*100:.2f}%\")\n",
    "print (\"The bar coupon acceptance rate by all other drivers -\", f\"{Bar_coupon_acceptance_allothers*100:.2f}%\")"
   ]
  },
  {
   "cell_type": "code",
   "execution_count": 183,
   "id": "6aea6fe3-c96c-4664-a012-3bf47fb31d81",
   "metadata": {},
   "outputs": [],
   "source": [
    "# 5.Use the same process to compare the acceptance rate between drivers who go to bars more than once a month and had passengers\n",
    "# that were not a kid and had occupations other than farming, fishing, or forestry.\n"
   ]
  },
  {
   "cell_type": "code",
   "execution_count": 185,
   "id": "73938169-fe59-452c-8e6f-970f076004f0",
   "metadata": {},
   "outputs": [
    {
     "data": {
      "text/plain": [
       "destination              object\n",
       "passanger                object\n",
       "weather                  object\n",
       "temperature               int64\n",
       "time                     object\n",
       "coupon                   object\n",
       "expiration               object\n",
       "gender                   object\n",
       "age                      object\n",
       "maritalStatus            object\n",
       "has_children              int64\n",
       "education                object\n",
       "occupation               object\n",
       "income                   object\n",
       "Bar                      object\n",
       "CoffeeHouse              object\n",
       "CarryAway                object\n",
       "RestaurantLessThan20     object\n",
       "Restaurant20To50         object\n",
       "toCoupon_GEQ5min          int64\n",
       "toCoupon_GEQ15min         int64\n",
       "toCoupon_GEQ25min         int64\n",
       "direction_same            int64\n",
       "direction_opp             int64\n",
       "Y                         int64\n",
       "Acceptance_Condition1     int64\n",
       "dtype: object"
      ]
     },
     "execution_count": 185,
     "metadata": {},
     "output_type": "execute_result"
    }
   ],
   "source": [
    "Bar_coupons.dtypes"
   ]
  },
  {
   "cell_type": "code",
   "execution_count": 186,
   "id": "27e243a0-d9de-441a-8e4c-f004befc8232",
   "metadata": {},
   "outputs": [
    {
     "data": {
      "text/plain": [
       "passanger\n",
       "Alone        1200\n",
       "Friend(s)     337\n",
       "Partner       274\n",
       "Kid(s)        206\n",
       "Name: count, dtype: int64"
      ]
     },
     "execution_count": 186,
     "metadata": {},
     "output_type": "execute_result"
    }
   ],
   "source": [
    "Bar_coupons['passanger'].value_counts()"
   ]
  },
  {
   "cell_type": "code",
   "execution_count": 188,
   "id": "a56d8287-2397-4308-8096-2101c063da8e",
   "metadata": {},
   "outputs": [],
   "source": [
    "# had passengers that were not a kid\n",
    "# Bar_coupons['passanger'] in ['Alone', 'Friend(s)', 'Partner']"
   ]
  },
  {
   "cell_type": "code",
   "execution_count": 187,
   "id": "5c92ef52-8fb6-4e92-8590-652aa6b2f07e",
   "metadata": {},
   "outputs": [
    {
     "data": {
      "text/plain": [
       "occupation\n",
       "Unemployed                                   301\n",
       "Student                                      251\n",
       "Computer & Mathematical                      232\n",
       "Sales & Related                              178\n",
       "Education&Training&Library                   140\n",
       "Management                                   119\n",
       "Office & Administrative Support              105\n",
       "Arts Design Entertainment Sports & Media     100\n",
       "Business & Financial                          89\n",
       "Retired                                       75\n",
       "Food Preparation & Serving Related            48\n",
       "Community & Social Services                   44\n",
       "Healthcare Support                            44\n",
       "Healthcare Practitioners & Technical          41\n",
       "Transportation & Material Moving              35\n",
       "Legal                                         34\n",
       "Architecture & Engineering                    27\n",
       "Personal Care & Service                       27\n",
       "Protective Service                            27\n",
       "Construction & Extraction                     24\n",
       "Life Physical Social Science                  24\n",
       "Installation Maintenance & Repair             18\n",
       "Production Occupations                        18\n",
       "Farming Fishing & Forestry                     9\n",
       "Building & Grounds Cleaning & Maintenance      7\n",
       "Name: count, dtype: int64"
      ]
     },
     "execution_count": 187,
     "metadata": {},
     "output_type": "execute_result"
    }
   ],
   "source": [
    "Bar_coupons['occupation'].value_counts()"
   ]
  },
  {
   "cell_type": "code",
   "execution_count": 189,
   "id": "04612a34-06e6-4750-9318-53e9d82bd643",
   "metadata": {},
   "outputs": [],
   "source": [
    "# had occupations other than farming, fishing, or forestry.\n",
    "# Bar_coupons['occupation'] not in ['Farming Fishing & Forestry']"
   ]
  },
  {
   "cell_type": "code",
   "execution_count": 212,
   "id": "f2dd12fc-a8d3-4532-bbd1-54dd81dcfb68",
   "metadata": {},
   "outputs": [
    {
     "name": "stderr",
     "output_type": "stream",
     "text": [
      "/var/folders/z_/9p038pkx1n9_c5jbhhjrbnmh0000gr/T/ipykernel_52417/1418482143.py:9: SettingWithCopyWarning: \n",
      "A value is trying to be set on a copy of a slice from a DataFrame.\n",
      "Try using .loc[row_indexer,col_indexer] = value instead\n",
      "\n",
      "See the caveats in the documentation: https://pandas.pydata.org/pandas-docs/stable/user_guide/indexing.html#returning-a-view-versus-a-copy\n",
      "  Bar_coupons['Acceptance_Condition2'] = Bar_coupons[['Bar','passanger','occupation']].apply(coupon_acceptance_condition2, axis=1)\n"
     ]
    },
    {
     "data": {
      "text/html": [
       "<div>\n",
       "<style scoped>\n",
       "    .dataframe tbody tr th:only-of-type {\n",
       "        vertical-align: middle;\n",
       "    }\n",
       "\n",
       "    .dataframe tbody tr th {\n",
       "        vertical-align: top;\n",
       "    }\n",
       "\n",
       "    .dataframe thead th {\n",
       "        text-align: right;\n",
       "    }\n",
       "</style>\n",
       "<table border=\"1\" class=\"dataframe\">\n",
       "  <thead>\n",
       "    <tr style=\"text-align: right;\">\n",
       "      <th></th>\n",
       "      <th>Bar</th>\n",
       "      <th>passanger</th>\n",
       "      <th>occupation</th>\n",
       "      <th>Acceptance_Condition2</th>\n",
       "    </tr>\n",
       "  </thead>\n",
       "  <tbody>\n",
       "    <tr>\n",
       "      <th>9</th>\n",
       "      <td>never</td>\n",
       "      <td>Kid(s)</td>\n",
       "      <td>Unemployed</td>\n",
       "      <td>0</td>\n",
       "    </tr>\n",
       "    <tr>\n",
       "      <th>13</th>\n",
       "      <td>never</td>\n",
       "      <td>Alone</td>\n",
       "      <td>Unemployed</td>\n",
       "      <td>0</td>\n",
       "    </tr>\n",
       "    <tr>\n",
       "      <th>24</th>\n",
       "      <td>never</td>\n",
       "      <td>Friend(s)</td>\n",
       "      <td>Architecture &amp; Engineering</td>\n",
       "      <td>0</td>\n",
       "    </tr>\n",
       "    <tr>\n",
       "      <th>35</th>\n",
       "      <td>never</td>\n",
       "      <td>Alone</td>\n",
       "      <td>Architecture &amp; Engineering</td>\n",
       "      <td>0</td>\n",
       "    </tr>\n",
       "    <tr>\n",
       "      <th>46</th>\n",
       "      <td>never</td>\n",
       "      <td>Friend(s)</td>\n",
       "      <td>Student</td>\n",
       "      <td>0</td>\n",
       "    </tr>\n",
       "    <tr>\n",
       "      <th>...</th>\n",
       "      <td>...</td>\n",
       "      <td>...</td>\n",
       "      <td>...</td>\n",
       "      <td>...</td>\n",
       "    </tr>\n",
       "    <tr>\n",
       "      <th>12196</th>\n",
       "      <td>4~8</td>\n",
       "      <td>Kid(s)</td>\n",
       "      <td>Computer &amp; Mathematical</td>\n",
       "      <td>0</td>\n",
       "    </tr>\n",
       "    <tr>\n",
       "      <th>12415</th>\n",
       "      <td>1~3</td>\n",
       "      <td>Kid(s)</td>\n",
       "      <td>Protective Service</td>\n",
       "      <td>0</td>\n",
       "    </tr>\n",
       "    <tr>\n",
       "      <th>12417</th>\n",
       "      <td>1~3</td>\n",
       "      <td>Friend(s)</td>\n",
       "      <td>Protective Service</td>\n",
       "      <td>1</td>\n",
       "    </tr>\n",
       "    <tr>\n",
       "      <th>12426</th>\n",
       "      <td>1~3</td>\n",
       "      <td>Partner</td>\n",
       "      <td>Protective Service</td>\n",
       "      <td>1</td>\n",
       "    </tr>\n",
       "    <tr>\n",
       "      <th>12639</th>\n",
       "      <td>never</td>\n",
       "      <td>Partner</td>\n",
       "      <td>Arts Design Entertainment Sports &amp; Media</td>\n",
       "      <td>0</td>\n",
       "    </tr>\n",
       "  </tbody>\n",
       "</table>\n",
       "<p>299 rows × 4 columns</p>\n",
       "</div>"
      ],
      "text/plain": [
       "         Bar  passanger                                occupation  \\\n",
       "9      never     Kid(s)                                Unemployed   \n",
       "13     never      Alone                                Unemployed   \n",
       "24     never  Friend(s)                Architecture & Engineering   \n",
       "35     never      Alone                Architecture & Engineering   \n",
       "46     never  Friend(s)                                   Student   \n",
       "...      ...        ...                                       ...   \n",
       "12196    4~8     Kid(s)                   Computer & Mathematical   \n",
       "12415    1~3     Kid(s)                        Protective Service   \n",
       "12417    1~3  Friend(s)                        Protective Service   \n",
       "12426    1~3    Partner                        Protective Service   \n",
       "12639  never    Partner  Arts Design Entertainment Sports & Media   \n",
       "\n",
       "       Acceptance_Condition2  \n",
       "9                          0  \n",
       "13                         0  \n",
       "24                         0  \n",
       "35                         0  \n",
       "46                         0  \n",
       "...                      ...  \n",
       "12196                      0  \n",
       "12415                      0  \n",
       "12417                      1  \n",
       "12426                      1  \n",
       "12639                      0  \n",
       "\n",
       "[299 rows x 4 columns]"
      ]
     },
     "execution_count": 212,
     "metadata": {},
     "output_type": "execute_result"
    }
   ],
   "source": [
    "# define conditions for bar coupon acceptence:\n",
    "\n",
    "def coupon_acceptance_condition2(Bar_coupons):\n",
    "    if Bar_coupons['Bar'] in ['1~3', '4~8', 'gt8'] and Bar_coupons['passanger'] in ['Alone', 'Friend(s)', 'Partner'] and Bar_coupons['occupation'] not in ['Farming Fishing & Forestry']:\n",
    "        return 1\n",
    "    else:\n",
    "        return 0\n",
    "\n",
    "Bar_coupons['Acceptance_Condition2'] = Bar_coupons[['Bar','passanger','occupation']].apply(coupon_acceptance_condition2, axis=1)\n",
    "Bar_coupons[['Bar','passanger','occupation','Acceptance_Condition2']].drop_duplicates()\n",
    "#Bar_coupons.loc[:, ('Bar','passanger','occupation','Acceptance_Condition2')].drop_duplicates()"
   ]
  },
  {
   "cell_type": "code",
   "execution_count": 194,
   "id": "e195e6e4-d5b8-4283-a812-10529698fcbd",
   "metadata": {},
   "outputs": [
    {
     "name": "stdout",
     "output_type": "stream",
     "text": [
      "A. Total count that meets 3 conditions and accept bar coupon- 393\n",
      "B. Total count that meets 3 conditions- 551\n",
      "C. Total count that 'does not' meet 3 conditions and accept bar coupon- 434\n",
      "D. Total count that 'does not' meet 3 conditions- 1466\n"
     ]
    }
   ],
   "source": [
    "# calculate a.total size that meets 3 conditions and accept bar coupon \n",
    "# calculate b.total size that meets 3 conditions\n",
    "# calculate c.total size that 'does not' meet 3 conditions and accept bar coupon \n",
    "# calculate d.total size that 'does not' meet 3 conditions\n",
    "\n",
    "print(\"A. Total count that meets 3 conditions and accept bar coupon-\", Bar_coupons.query('Acceptance_Condition2 == 1').query(\"Y == 1\")['Y'].value_counts().iloc[0])\n",
    "print(\"B. Total count that meets 3 conditions-\", Bar_coupons.query('Acceptance_Condition2 == 1')['Y'].size)\n",
    "print(\"C. Total count that 'does not' meet 3 conditions and accept bar coupon-\", Bar_coupons.query('Acceptance_Condition2 != 1').query(\"Y == 1\")['Y'].value_counts().iloc[0])\n",
    "print(\"D. Total count that 'does not' meet 3 conditions-\",Bar_coupons.query('Acceptance_Condition2 != 1')['Y'].size)"
   ]
  },
  {
   "cell_type": "code",
   "execution_count": 197,
   "id": "6915195d-ac67-4ce5-9760-8ee3499559a6",
   "metadata": {},
   "outputs": [
    {
     "name": "stdout",
     "output_type": "stream",
     "text": [
      "The acceptance rate by drivers that meet 3 conditions -  71.32%\n",
      "The acceptance rate by all other drivers -  29.60%\n"
     ]
    }
   ],
   "source": [
    "# the acceptance rate by drivers who go to bars more than once a month and had passengers \n",
    "# that were not a kid and had occupations other than farming, fishing, or forestry = A/B\n",
    "Bar_coupon_acceptance_morethan1_nokids_occup = Bar_coupons.query('Acceptance_Condition2 == 1').query(\"Y == 1\")['Y'].value_counts().iloc[0]/Bar_coupons.query('Acceptance_Condition2 == 1')['Y'].size\n",
    "\n",
    "# the acceptance rate by all other drivers = C/D\n",
    "Bar_coupon_acceptance_allothers_condition2 = Bar_coupons.query('Acceptance_Condition2 != 1').query(\"Y == 1\")['Y'].value_counts().iloc[0]/Bar_coupons.query('Acceptance_Condition2 != 1')['Y'].size\n",
    "\n",
    "print(\"The acceptance rate by drivers that meet 3 conditions - \", f\"{Bar_coupon_acceptance_morethan1_nokids_occup*100:.2f}%\")\n",
    "print(\"The acceptance rate by all other drivers - \", f\"{Bar_coupon_acceptance_allothers_condition2*100:.2f}%\")\n"
   ]
  },
  {
   "cell_type": "code",
   "execution_count": null,
   "id": "d7cb2fe0-5091-4356-9ecd-08fd196c92df",
   "metadata": {},
   "outputs": [],
   "source": []
  },
  {
   "cell_type": "code",
   "execution_count": 199,
   "id": "71fa0850-4176-46bf-92ca-378d9935f467",
   "metadata": {},
   "outputs": [],
   "source": [
    "# 6. Compare the acceptance rates between those drivers who:\n",
    "# 6a. go to bars more than once a month, had passengers that were not a kid, and were not widowed OR\n",
    "# 6b. go to bars more than once a month and are under the age of 30 OR\n",
    "# 6c. go to cheap restaurants more than 4 times a month and income is less than 50K."
   ]
  },
  {
   "cell_type": "code",
   "execution_count": 200,
   "id": "a2cb3fe9-0aa2-428a-b292-537aa5775a68",
   "metadata": {},
   "outputs": [
    {
     "data": {
      "text/plain": [
       "destination              object\n",
       "passanger                object\n",
       "weather                  object\n",
       "temperature               int64\n",
       "time                     object\n",
       "coupon                   object\n",
       "expiration               object\n",
       "gender                   object\n",
       "age                      object\n",
       "maritalStatus            object\n",
       "has_children              int64\n",
       "education                object\n",
       "occupation               object\n",
       "income                   object\n",
       "Bar                      object\n",
       "CoffeeHouse              object\n",
       "CarryAway                object\n",
       "RestaurantLessThan20     object\n",
       "Restaurant20To50         object\n",
       "toCoupon_GEQ5min          int64\n",
       "toCoupon_GEQ15min         int64\n",
       "toCoupon_GEQ25min         int64\n",
       "direction_same            int64\n",
       "direction_opp             int64\n",
       "Y                         int64\n",
       "Acceptance_Condition1     int64\n",
       "Acceptance_Condition2     int64\n",
       "dtype: object"
      ]
     },
     "execution_count": 200,
     "metadata": {},
     "output_type": "execute_result"
    }
   ],
   "source": [
    "# 6a.\n",
    "Bar_coupons.dtypes"
   ]
  },
  {
   "cell_type": "code",
   "execution_count": 202,
   "id": "a2d29dce-24e5-4a5c-b503-daeccef17f88",
   "metadata": {},
   "outputs": [
    {
     "data": {
      "text/plain": [
       "array(['Unmarried partner', 'Single', 'Married partner', 'Divorced',\n",
       "       'Widowed'], dtype=object)"
      ]
     },
     "execution_count": 202,
     "metadata": {},
     "output_type": "execute_result"
    }
   ],
   "source": [
    "# 6a. go to bars more than once a month, had passengers that were not a kid, and were not widowed\n",
    "Bar_coupons['maritalStatus'].unique()"
   ]
  },
  {
   "cell_type": "code",
   "execution_count": 222,
   "id": "d2bd935a-8759-4686-b5cb-aa267f4b47d1",
   "metadata": {},
   "outputs": [
    {
     "name": "stderr",
     "output_type": "stream",
     "text": [
      "/var/folders/z_/9p038pkx1n9_c5jbhhjrbnmh0000gr/T/ipykernel_52417/1566908762.py:11: SettingWithCopyWarning: \n",
      "A value is trying to be set on a copy of a slice from a DataFrame.\n",
      "Try using .loc[row_indexer,col_indexer] = value instead\n",
      "\n",
      "See the caveats in the documentation: https://pandas.pydata.org/pandas-docs/stable/user_guide/indexing.html#returning-a-view-versus-a-copy\n",
      "  Bar_coupons['Acceptance_Condition1'] = Bar_coupons[['Bar','passanger','maritalStatus']].apply(coupon_acceptance_condition_6a, axis=1)\n"
     ]
    },
    {
     "data": {
      "text/html": [
       "<div>\n",
       "<style scoped>\n",
       "    .dataframe tbody tr th:only-of-type {\n",
       "        vertical-align: middle;\n",
       "    }\n",
       "\n",
       "    .dataframe tbody tr th {\n",
       "        vertical-align: top;\n",
       "    }\n",
       "\n",
       "    .dataframe thead th {\n",
       "        text-align: right;\n",
       "    }\n",
       "</style>\n",
       "<table border=\"1\" class=\"dataframe\">\n",
       "  <thead>\n",
       "    <tr style=\"text-align: right;\">\n",
       "      <th></th>\n",
       "      <th>Bar</th>\n",
       "      <th>passanger</th>\n",
       "      <th>maritalStatus</th>\n",
       "      <th>Acceptance_Condition1</th>\n",
       "    </tr>\n",
       "  </thead>\n",
       "  <tbody>\n",
       "    <tr>\n",
       "      <th>9</th>\n",
       "      <td>never</td>\n",
       "      <td>Kid(s)</td>\n",
       "      <td>Unmarried partner</td>\n",
       "      <td>0</td>\n",
       "    </tr>\n",
       "    <tr>\n",
       "      <th>13</th>\n",
       "      <td>never</td>\n",
       "      <td>Alone</td>\n",
       "      <td>Unmarried partner</td>\n",
       "      <td>0</td>\n",
       "    </tr>\n",
       "    <tr>\n",
       "      <th>24</th>\n",
       "      <td>never</td>\n",
       "      <td>Friend(s)</td>\n",
       "      <td>Single</td>\n",
       "      <td>0</td>\n",
       "    </tr>\n",
       "    <tr>\n",
       "      <th>35</th>\n",
       "      <td>never</td>\n",
       "      <td>Alone</td>\n",
       "      <td>Single</td>\n",
       "      <td>0</td>\n",
       "    </tr>\n",
       "    <tr>\n",
       "      <th>75</th>\n",
       "      <td>less1</td>\n",
       "      <td>Kid(s)</td>\n",
       "      <td>Married partner</td>\n",
       "      <td>0</td>\n",
       "    </tr>\n",
       "    <tr>\n",
       "      <th>...</th>\n",
       "      <td>...</td>\n",
       "      <td>...</td>\n",
       "      <td>...</td>\n",
       "      <td>...</td>\n",
       "    </tr>\n",
       "    <tr>\n",
       "      <th>8768</th>\n",
       "      <td>1~3</td>\n",
       "      <td>Partner</td>\n",
       "      <td>Single</td>\n",
       "      <td>1</td>\n",
       "    </tr>\n",
       "    <tr>\n",
       "      <th>11824</th>\n",
       "      <td>less1</td>\n",
       "      <td>Friend(s)</td>\n",
       "      <td>Widowed</td>\n",
       "      <td>0</td>\n",
       "    </tr>\n",
       "    <tr>\n",
       "      <th>11828</th>\n",
       "      <td>less1</td>\n",
       "      <td>Alone</td>\n",
       "      <td>Widowed</td>\n",
       "      <td>0</td>\n",
       "    </tr>\n",
       "    <tr>\n",
       "      <th>11831</th>\n",
       "      <td>less1</td>\n",
       "      <td>Partner</td>\n",
       "      <td>Widowed</td>\n",
       "      <td>0</td>\n",
       "    </tr>\n",
       "    <tr>\n",
       "      <th>12196</th>\n",
       "      <td>4~8</td>\n",
       "      <td>Kid(s)</td>\n",
       "      <td>Unmarried partner</td>\n",
       "      <td>0</td>\n",
       "    </tr>\n",
       "  </tbody>\n",
       "</table>\n",
       "<p>68 rows × 4 columns</p>\n",
       "</div>"
      ],
      "text/plain": [
       "         Bar  passanger      maritalStatus  Acceptance_Condition1\n",
       "9      never     Kid(s)  Unmarried partner                      0\n",
       "13     never      Alone  Unmarried partner                      0\n",
       "24     never  Friend(s)             Single                      0\n",
       "35     never      Alone             Single                      0\n",
       "75     less1     Kid(s)    Married partner                      0\n",
       "...      ...        ...                ...                    ...\n",
       "8768     1~3    Partner             Single                      1\n",
       "11824  less1  Friend(s)            Widowed                      0\n",
       "11828  less1      Alone            Widowed                      0\n",
       "11831  less1    Partner            Widowed                      0\n",
       "12196    4~8     Kid(s)  Unmarried partner                      0\n",
       "\n",
       "[68 rows x 4 columns]"
      ]
     },
     "execution_count": 222,
     "metadata": {},
     "output_type": "execute_result"
    }
   ],
   "source": [
    "# 6a. go to bars more than once a month, had passengers that were not a kid, and were not widowed\n",
    "# define conditions for bar coupon acceptence:\n",
    "\n",
    "def coupon_acceptance_condition_6a(Bar_coupons):\n",
    "    if Bar_coupons['Bar'] in ['1~3', '4~8', 'gt8'] and Bar_coupons['passanger'] in ['Alone', 'Friend(s)', 'Partner'] and Bar_coupons['maritalStatus'] not in ['Widowed']:\n",
    "        return 1\n",
    "    else:\n",
    "        return 0\n",
    "\n",
    "#Bar_coupons_condition1 = pd.DataFrame({'Bar': Bar_coupons['Bar'], 'age':  Bar_coupons['Bar'] })\n",
    "Bar_coupons['Acceptance_Condition1'] = Bar_coupons[['Bar','passanger','maritalStatus']].apply(coupon_acceptance_condition_6a, axis=1)\n",
    "Bar_coupons[['Bar','passanger','maritalStatus','Acceptance_Condition1']].query('Acceptance_Condition1 == 1').drop_duplicates()\n",
    "Bar_coupons.loc[:, ('Bar','passanger','maritalStatus','Acceptance_Condition1')].drop_duplicates()"
   ]
  },
  {
   "cell_type": "code",
   "execution_count": 223,
   "id": "14d1c772-0c21-44ee-9538-47ded7d31859",
   "metadata": {},
   "outputs": [
    {
     "data": {
      "text/plain": [
       "array(['21', '46', '26', '31', '41', '50plus', '36', 'below21'],\n",
       "      dtype=object)"
      ]
     },
     "execution_count": 223,
     "metadata": {},
     "output_type": "execute_result"
    }
   ],
   "source": [
    "# 6b. go to bars more than once a month and are under the age of 30\n",
    "Bar_coupons['age'].unique()"
   ]
  },
  {
   "cell_type": "code",
   "execution_count": 226,
   "id": "0328fd8f-b784-4ebf-8afb-bc55e92f8194",
   "metadata": {},
   "outputs": [
    {
     "name": "stderr",
     "output_type": "stream",
     "text": [
      "/var/folders/z_/9p038pkx1n9_c5jbhhjrbnmh0000gr/T/ipykernel_52417/1854578079.py:11: SettingWithCopyWarning: \n",
      "A value is trying to be set on a copy of a slice from a DataFrame.\n",
      "Try using .loc[row_indexer,col_indexer] = value instead\n",
      "\n",
      "See the caveats in the documentation: https://pandas.pydata.org/pandas-docs/stable/user_guide/indexing.html#returning-a-view-versus-a-copy\n",
      "  Bar_coupons['Acceptance_Condition2'] = Bar_coupons[['Bar','age']].apply(coupon_acceptance_condition_6b, axis=1)\n"
     ]
    },
    {
     "data": {
      "text/html": [
       "<div>\n",
       "<style scoped>\n",
       "    .dataframe tbody tr th:only-of-type {\n",
       "        vertical-align: middle;\n",
       "    }\n",
       "\n",
       "    .dataframe tbody tr th {\n",
       "        vertical-align: top;\n",
       "    }\n",
       "\n",
       "    .dataframe thead th {\n",
       "        text-align: right;\n",
       "    }\n",
       "</style>\n",
       "<table border=\"1\" class=\"dataframe\">\n",
       "  <thead>\n",
       "    <tr style=\"text-align: right;\">\n",
       "      <th></th>\n",
       "      <th>Bar</th>\n",
       "      <th>age</th>\n",
       "      <th>Acceptance_Condition2</th>\n",
       "    </tr>\n",
       "  </thead>\n",
       "  <tbody>\n",
       "    <tr>\n",
       "      <th>90</th>\n",
       "      <td>1~3</td>\n",
       "      <td>21</td>\n",
       "      <td>1</td>\n",
       "    </tr>\n",
       "    <tr>\n",
       "      <th>112</th>\n",
       "      <td>1~3</td>\n",
       "      <td>26</td>\n",
       "      <td>1</td>\n",
       "    </tr>\n",
       "    <tr>\n",
       "      <th>156</th>\n",
       "      <td>gt8</td>\n",
       "      <td>26</td>\n",
       "      <td>1</td>\n",
       "    </tr>\n",
       "    <tr>\n",
       "      <th>591</th>\n",
       "      <td>4~8</td>\n",
       "      <td>26</td>\n",
       "      <td>1</td>\n",
       "    </tr>\n",
       "    <tr>\n",
       "      <th>1774</th>\n",
       "      <td>4~8</td>\n",
       "      <td>21</td>\n",
       "      <td>1</td>\n",
       "    </tr>\n",
       "    <tr>\n",
       "      <th>2984</th>\n",
       "      <td>gt8</td>\n",
       "      <td>21</td>\n",
       "      <td>1</td>\n",
       "    </tr>\n",
       "    <tr>\n",
       "      <th>6517</th>\n",
       "      <td>1~3</td>\n",
       "      <td>below21</td>\n",
       "      <td>1</td>\n",
       "    </tr>\n",
       "    <tr>\n",
       "      <th>11498</th>\n",
       "      <td>gt8</td>\n",
       "      <td>below21</td>\n",
       "      <td>1</td>\n",
       "    </tr>\n",
       "  </tbody>\n",
       "</table>\n",
       "</div>"
      ],
      "text/plain": [
       "       Bar      age  Acceptance_Condition2\n",
       "90     1~3       21                      1\n",
       "112    1~3       26                      1\n",
       "156    gt8       26                      1\n",
       "591    4~8       26                      1\n",
       "1774   4~8       21                      1\n",
       "2984   gt8       21                      1\n",
       "6517   1~3  below21                      1\n",
       "11498  gt8  below21                      1"
      ]
     },
     "execution_count": 226,
     "metadata": {},
     "output_type": "execute_result"
    }
   ],
   "source": [
    "# 6b. go to bars more than once a month and are under the age of 30\n",
    "# define conditions for bar coupon acceptence:\n",
    "\n",
    "def coupon_acceptance_condition_6b(Bar_coupons):\n",
    "    if Bar_coupons['Bar'] in ['1~3', '4~8', 'gt8'] and Bar_coupons['age'] in ['21','26','below21']:\n",
    "        return 1\n",
    "    else:\n",
    "        return 0\n",
    "\n",
    "#Bar_coupons_condition1 = pd.DataFrame({'Bar': Bar_coupons['Bar'], 'age':  Bar_coupons['Bar'] })\n",
    "Bar_coupons['Acceptance_Condition2'] = Bar_coupons[['Bar','age']].apply(coupon_acceptance_condition_6b, axis=1)\n",
    "Bar_coupons[['Bar','age','Acceptance_Condition2']].query('Acceptance_Condition2 == 1').drop_duplicates()\n",
    "#Bar_coupons.loc[:, ('Bar','age','Acceptance_Condition2')].drop_duplicates()"
   ]
  },
  {
   "cell_type": "code",
   "execution_count": 227,
   "id": "431456f2-5d5d-479d-a981-318e7bc078d6",
   "metadata": {},
   "outputs": [
    {
     "data": {
      "text/plain": [
       "array(['4~8', '1~3', 'less1', 'gt8', 'never'], dtype=object)"
      ]
     },
     "execution_count": 227,
     "metadata": {},
     "output_type": "execute_result"
    }
   ],
   "source": [
    "# 6c. go to cheap restaurants more than 4 times a month and income is less than 50K\n",
    "Bar_coupons['RestaurantLessThan20'].unique()"
   ]
  },
  {
   "cell_type": "code",
   "execution_count": 228,
   "id": "1ddabfb0-ac84-40b3-b4de-588053f4c0b6",
   "metadata": {},
   "outputs": [
    {
     "data": {
      "text/plain": [
       "array(['$37500 - $49999', '$62500 - $74999', '$12500 - $24999',\n",
       "       '$75000 - $87499', '$50000 - $62499', '$25000 - $37499',\n",
       "       '$100000 or More', '$87500 - $99999', 'Less than $12500'],\n",
       "      dtype=object)"
      ]
     },
     "execution_count": 228,
     "metadata": {},
     "output_type": "execute_result"
    }
   ],
   "source": [
    "# 6c. go to cheap restaurants more than 4 times a month and income is less than 50K\n",
    "Bar_coupons['income'].unique()"
   ]
  },
  {
   "cell_type": "code",
   "execution_count": 229,
   "id": "4a64b552-45ec-4d99-94ce-64fe0774e694",
   "metadata": {},
   "outputs": [
    {
     "name": "stderr",
     "output_type": "stream",
     "text": [
      "/var/folders/z_/9p038pkx1n9_c5jbhhjrbnmh0000gr/T/ipykernel_52417/1337651441.py:10: SettingWithCopyWarning: \n",
      "A value is trying to be set on a copy of a slice from a DataFrame.\n",
      "Try using .loc[row_indexer,col_indexer] = value instead\n",
      "\n",
      "See the caveats in the documentation: https://pandas.pydata.org/pandas-docs/stable/user_guide/indexing.html#returning-a-view-versus-a-copy\n",
      "  Bar_coupons['Acceptance_Condition3'] = Bar_coupons[['RestaurantLessThan20','income']].apply(coupon_acceptance_condition_6c, axis=1)\n"
     ]
    },
    {
     "data": {
      "text/html": [
       "<div>\n",
       "<style scoped>\n",
       "    .dataframe tbody tr th:only-of-type {\n",
       "        vertical-align: middle;\n",
       "    }\n",
       "\n",
       "    .dataframe tbody tr th {\n",
       "        vertical-align: top;\n",
       "    }\n",
       "\n",
       "    .dataframe thead th {\n",
       "        text-align: right;\n",
       "    }\n",
       "</style>\n",
       "<table border=\"1\" class=\"dataframe\">\n",
       "  <thead>\n",
       "    <tr style=\"text-align: right;\">\n",
       "      <th></th>\n",
       "      <th>RestaurantLessThan20</th>\n",
       "      <th>income</th>\n",
       "      <th>Acceptance_Condition3</th>\n",
       "    </tr>\n",
       "  </thead>\n",
       "  <tbody>\n",
       "    <tr>\n",
       "      <th>9</th>\n",
       "      <td>4~8</td>\n",
       "      <td>$37500 - $49999</td>\n",
       "      <td>1</td>\n",
       "    </tr>\n",
       "    <tr>\n",
       "      <th>156</th>\n",
       "      <td>gt8</td>\n",
       "      <td>$37500 - $49999</td>\n",
       "      <td>1</td>\n",
       "    </tr>\n",
       "    <tr>\n",
       "      <th>620</th>\n",
       "      <td>gt8</td>\n",
       "      <td>$25000 - $37499</td>\n",
       "      <td>1</td>\n",
       "    </tr>\n",
       "    <tr>\n",
       "      <th>752</th>\n",
       "      <td>4~8</td>\n",
       "      <td>$25000 - $37499</td>\n",
       "      <td>1</td>\n",
       "    </tr>\n",
       "    <tr>\n",
       "      <th>1014</th>\n",
       "      <td>4~8</td>\n",
       "      <td>$12500 - $24999</td>\n",
       "      <td>1</td>\n",
       "    </tr>\n",
       "    <tr>\n",
       "      <th>2082</th>\n",
       "      <td>gt8</td>\n",
       "      <td>$12500 - $24999</td>\n",
       "      <td>1</td>\n",
       "    </tr>\n",
       "    <tr>\n",
       "      <th>2097</th>\n",
       "      <td>4~8</td>\n",
       "      <td>Less than $12500</td>\n",
       "      <td>1</td>\n",
       "    </tr>\n",
       "    <tr>\n",
       "      <th>2119</th>\n",
       "      <td>gt8</td>\n",
       "      <td>Less than $12500</td>\n",
       "      <td>1</td>\n",
       "    </tr>\n",
       "  </tbody>\n",
       "</table>\n",
       "</div>"
      ],
      "text/plain": [
       "     RestaurantLessThan20            income  Acceptance_Condition3\n",
       "9                     4~8   $37500 - $49999                      1\n",
       "156                   gt8   $37500 - $49999                      1\n",
       "620                   gt8   $25000 - $37499                      1\n",
       "752                   4~8   $25000 - $37499                      1\n",
       "1014                  4~8   $12500 - $24999                      1\n",
       "2082                  gt8   $12500 - $24999                      1\n",
       "2097                  4~8  Less than $12500                      1\n",
       "2119                  gt8  Less than $12500                      1"
      ]
     },
     "execution_count": 229,
     "metadata": {},
     "output_type": "execute_result"
    }
   ],
   "source": [
    "# 6c. go to cheap restaurants more than 4 times a month and income is less than 50K\n",
    "# define conditions for bar coupon acceptence:\n",
    "\n",
    "def coupon_acceptance_condition_6c(Bar_coupons):\n",
    "    if Bar_coupons['RestaurantLessThan20'] in ['4~8', 'gt8'] and Bar_coupons['income'] in ['$37500 - $49999','$12500 - $24999','$25000 - $37499','Less than $12500']:\n",
    "        return 1\n",
    "    else:\n",
    "        return 0\n",
    "\n",
    "Bar_coupons['Acceptance_Condition3'] = Bar_coupons[['RestaurantLessThan20','income']].apply(coupon_acceptance_condition_6c, axis=1)\n",
    "Bar_coupons[['RestaurantLessThan20','income','Acceptance_Condition3']].query('Acceptance_Condition3 == 1').drop_duplicates()\n",
    "#Bar_coupons.loc[:, ('Bar','age','Acceptance_Condition2')].drop_duplicates()"
   ]
  },
  {
   "cell_type": "code",
   "execution_count": 231,
   "id": "a956450a-de26-437c-bf7a-254197b2d74e",
   "metadata": {},
   "outputs": [
    {
     "data": {
      "text/html": [
       "<div>\n",
       "<style scoped>\n",
       "    .dataframe tbody tr th:only-of-type {\n",
       "        vertical-align: middle;\n",
       "    }\n",
       "\n",
       "    .dataframe tbody tr th {\n",
       "        vertical-align: top;\n",
       "    }\n",
       "\n",
       "    .dataframe thead th {\n",
       "        text-align: right;\n",
       "    }\n",
       "</style>\n",
       "<table border=\"1\" class=\"dataframe\">\n",
       "  <thead>\n",
       "    <tr style=\"text-align: right;\">\n",
       "      <th></th>\n",
       "      <th>Acceptance_Condition1</th>\n",
       "      <th>Acceptance_Condition2</th>\n",
       "      <th>Acceptance_Condition3</th>\n",
       "    </tr>\n",
       "  </thead>\n",
       "  <tbody>\n",
       "    <tr>\n",
       "      <th>9</th>\n",
       "      <td>0</td>\n",
       "      <td>0</td>\n",
       "      <td>1</td>\n",
       "    </tr>\n",
       "    <tr>\n",
       "      <th>156</th>\n",
       "      <td>1</td>\n",
       "      <td>1</td>\n",
       "      <td>1</td>\n",
       "    </tr>\n",
       "    <tr>\n",
       "      <th>752</th>\n",
       "      <td>1</td>\n",
       "      <td>0</td>\n",
       "      <td>1</td>\n",
       "    </tr>\n",
       "    <tr>\n",
       "      <th>1642</th>\n",
       "      <td>0</td>\n",
       "      <td>1</td>\n",
       "      <td>1</td>\n",
       "    </tr>\n",
       "  </tbody>\n",
       "</table>\n",
       "</div>"
      ],
      "text/plain": [
       "      Acceptance_Condition1  Acceptance_Condition2  Acceptance_Condition3\n",
       "9                         0                      0                      1\n",
       "156                       1                      1                      1\n",
       "752                       1                      0                      1\n",
       "1642                      0                      1                      1"
      ]
     },
     "execution_count": 231,
     "metadata": {},
     "output_type": "execute_result"
    }
   ],
   "source": [
    "# confirming the data presence \n",
    "Bar_coupons[['Acceptance_Condition1','Acceptance_Condition2','Acceptance_Condition3']].query('Acceptance_Condition3 == 1').drop_duplicates()"
   ]
  },
  {
   "cell_type": "code",
   "execution_count": 232,
   "id": "672d7f6c-3d25-4bc0-85d0-9243f4f698a2",
   "metadata": {},
   "outputs": [],
   "source": [
    "# 6. Compare the acceptance rates between those drivers who:\n",
    "# 6a. go to bars more than once a month, had passengers that were not a kid, and were not widowed OR\n",
    "# 6b. go to bars more than once a month and are under the age of 30 OR\n",
    "# 6c. go to cheap restaurants more than 4 times a month and income is less than 50K."
   ]
  },
  {
   "cell_type": "code",
   "execution_count": 233,
   "id": "5a41461e-6817-42bc-b550-2e58a0209315",
   "metadata": {},
   "outputs": [
    {
     "name": "stdout",
     "output_type": "stream",
     "text": [
      "A. Total count that meets condition 1 and accept bar coupon - 393\n",
      "B. Total count that that meets condition 1 - 551\n",
      "C. Total count that meets condition 2 and accept bar coupon - 249\n",
      "D. Total count that that meets condition 2 - 345\n",
      "E. Total count that meets condition 3 and accept bar coupon - 156\n",
      "F. Total count that that meets condition 3 - 344\n"
     ]
    }
   ],
   "source": [
    "# calculate a.total size that meets condition 1 and accept bar coupon \n",
    "# calculate b.total size that meets condition 1\n",
    "# calculate c.total size that meets condition 2 and accept bar coupon \n",
    "# calculate d.total size that meets condition 2\n",
    "# calculate e.total size that meets condition 3 and accept bar coupon \n",
    "# calculate f.total size that meets condition 3\n",
    "\n",
    "print(\"A. Total count that meets condition 1 and accept bar coupon -\", Bar_coupons.query('Acceptance_Condition1 == 1').query(\"Y == 1\")['Y'].value_counts().iloc[0])\n",
    "print(\"B. Total count that that meets condition 1 -\", Bar_coupons.query('Acceptance_Condition1 == 1')['Y'].size)\n",
    "print(\"C. Total count that meets condition 2 and accept bar coupon -\", Bar_coupons.query('Acceptance_Condition2 == 1').query(\"Y == 1\")['Y'].value_counts().iloc[0])\n",
    "print(\"D. Total count that that meets condition 2 -\", Bar_coupons.query('Acceptance_Condition2 == 1')['Y'].size)\n",
    "print(\"E. Total count that meets condition 3 and accept bar coupon -\", Bar_coupons.query('Acceptance_Condition3 == 1').query(\"Y == 1\")['Y'].value_counts().iloc[0])\n",
    "print(\"F. Total count that that meets condition 3 -\", Bar_coupons.query('Acceptance_Condition3 == 1')['Y'].size)"
   ]
  },
  {
   "cell_type": "code",
   "execution_count": 234,
   "id": "2aee866e-92b6-41bf-bf85-da0fc0d1d663",
   "metadata": {},
   "outputs": [
    {
     "name": "stdout",
     "output_type": "stream",
     "text": [
      "The acceptance rate by drivers who go to bars more than once a month, had passengers that were not a kid, and were not widowed -  71.32%\n",
      "The acceptance rate by drivers who go to bars more than once a month and are under the age of 30 -  72.17%\n",
      "The acceptance rate by drivers who go to cheap restaurants more than 4 times a month and income is less than 50K -  45.35%\n"
     ]
    }
   ],
   "source": [
    "# the acceptance rate by drivers for condition 1 = A/B\n",
    "Bar_coupon_acceptance_condition1 = Bar_coupons.query('Acceptance_Condition1 == 1').query(\"Y == 1\")['Y'].value_counts().iloc[0]/Bar_coupons.query('Acceptance_Condition1 == 1')['Y'].size\n",
    "\n",
    "# the acceptance rate by drivers for condition 2 = C/D\n",
    "Bar_coupon_acceptance_condition2 = Bar_coupons.query('Acceptance_Condition2 == 1').query(\"Y == 1\")['Y'].value_counts().iloc[0]/Bar_coupons.query('Acceptance_Condition2 == 1')['Y'].size\n",
    "\n",
    "# the acceptance rate by drivers for condition 3 = E/F\n",
    "Bar_coupon_acceptance_condition3 = Bar_coupons.query('Acceptance_Condition3 == 1').query(\"Y == 1\")['Y'].value_counts().iloc[0]/Bar_coupons.query('Acceptance_Condition3 == 1')['Y'].size\n",
    "\n",
    "print(\"The acceptance rate by drivers who go to bars more than once a month, had passengers that were not a kid, and were not widowed - \", f\"{Bar_coupon_acceptance_condition1*100:.2f}%\")\n",
    "print(\"The acceptance rate by drivers who go to bars more than once a month and are under the age of 30 - \", f\"{Bar_coupon_acceptance_condition2*100:.2f}%\")\n",
    "print(\"The acceptance rate by drivers who go to cheap restaurants more than 4 times a month and income is less than 50K - \", f\"{Bar_coupon_acceptance_condition3*100:.2f}%\")\n"
   ]
  },
  {
   "cell_type": "code",
   "execution_count": 235,
   "id": "dc4702d4-1330-4b46-a136-8b4c117c55eb",
   "metadata": {},
   "outputs": [],
   "source": [
    "# 7. Based on these observations, what do you hypothesize about drivers who accepted the bar coupons?"
   ]
  },
  {
   "cell_type": "code",
   "execution_count": 240,
   "id": "385138be-a68b-483e-977f-a60527c1b1ef",
   "metadata": {},
   "outputs": [
    {
     "name": "stdout",
     "output_type": "stream",
     "text": [
      "The total observations chose to accept the coupon -  56.84%\n",
      "The total proportion of bar coupons chose that were accepted - 41.00%\n",
      "The Bar coupon acceptance rate for those who went to a bar 3 or fewer times a month: 38.03%\n",
      "The Bar coupon acceptance rate for those who went to a bar more than 3 time a month: 78.00%\n",
      "The bar coupon acceptance rate by drivers  who go to a bar more than once a month and are over the age of 25 - 69.52%\n",
      "The bar coupon acceptance rate by drivers who go to bars more than once a month and had passengers that were not a kid and had occupations other than farming, fishing, or forestry - 71.32%\n",
      "The acceptance rate by drivers who go to bars more than once a month, had passengers that were not a kid, and were not widowed -  71.32%\n",
      "The acceptance rate by drivers who go to bars more than once a month and are under the age of 30 -  72.17%\n",
      "The acceptance rate by drivers who go to cheap restaurants more than 4 times a month and income is less than 50K -  45.35%\n"
     ]
    }
   ],
   "source": [
    "# All observations/results -\n",
    "print('The total observations chose to accept the coupon -  56.84%')\n",
    "print('The total proportion of bar coupons chose that were accepted - 41.00%')\n",
    "print('The Bar coupon acceptance rate for those who went to a bar 3 or fewer times a month: 38.03%')\n",
    "print('The Bar coupon acceptance rate for those who went to a bar more than 3 time a month: 78.00%')\n",
    "print('The bar coupon acceptance rate by drivers  who go to a bar more than once a month and are over the age of 25 - 69.52%')\n",
    "print('The bar coupon acceptance rate by drivers who go to bars more than once a month and had passengers that were not a kid and had occupations other than farming, fishing, or forestry - 71.32%')\n",
    "print(\"The acceptance rate by drivers who go to bars more than once a month, had passengers that were not a kid, and were not widowed - \", f\"{Bar_coupon_acceptance_condition1*100:.2f}%\")\n",
    "print(\"The acceptance rate by drivers who go to bars more than once a month and are under the age of 30 - \", f\"{Bar_coupon_acceptance_condition2*100:.2f}%\")\n",
    "print(\"The acceptance rate by drivers who go to cheap restaurants more than 4 times a month and income is less than 50K - \", f\"{Bar_coupon_acceptance_condition3*100:.2f}%\")\n",
    "      "
   ]
  },
  {
   "cell_type": "code",
   "execution_count": 241,
   "id": "178411c5-341b-43f5-a081-f4e9ecc9b7de",
   "metadata": {},
   "outputs": [],
   "source": [
    "# Conclusion:\n",
    "# The findings suggest that the frequency of visiting bars is a significant predictor of bar coupon acceptance, especially among those \n",
    "# who frequent bars more than three times a month. Age also plays a role, with higher acceptance noted among older frequent bar-goers.\n",
    "# Socio-demographic factors such as occupation, passenger composition, and marital status, provide insightful trends but appear less \n",
    "# impactful compared to the frequency of visits and age. Promotional strategies might be more effective if they are targeted toward frequent,\n",
    "# older bar-goers, potentially customized by socio-demographic profiles.\n"
   ]
  },
  {
   "cell_type": "code",
   "execution_count": null,
   "id": "ef71047d-213e-4633-876d-0b999ad048f4",
   "metadata": {},
   "outputs": [],
   "source": []
  }
 ],
 "metadata": {
  "kernelspec": {
   "display_name": "Python 3 (ipykernel)",
   "language": "python",
   "name": "python3"
  },
  "language_info": {
   "codemirror_mode": {
    "name": "ipython",
    "version": 3
   },
   "file_extension": ".py",
   "mimetype": "text/x-python",
   "name": "python",
   "nbconvert_exporter": "python",
   "pygments_lexer": "ipython3",
   "version": "3.9.6"
  }
 },
 "nbformat": 4,
 "nbformat_minor": 5
}
